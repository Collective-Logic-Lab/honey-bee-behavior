{
 "cells": [
  {
   "cell_type": "code",
   "execution_count": 15,
   "id": "26abcbbc",
   "metadata": {},
   "outputs": [],
   "source": [
    "import pandas as pd\n",
    "import numpy as np\n",
    "import matplotlib.pyplot as plt\n",
    "import random"
   ]
  },
  {
   "cell_type": "code",
   "execution_count": 17,
   "id": "992ea200",
   "metadata": {},
   "outputs": [
    {
     "name": "stdout",
     "output_type": "stream",
     "text": [
      "73\n"
     ]
    }
   ],
   "source": [
    "daynum = 73\n",
    "print(daynum)\n",
    "\n",
    "if daynum > 50:\n",
    "    datadir = '/Users/padmaprabagaran/dev/honey-bee-behavior/Data/zenodo/beetrajectories_days_050_to_085/'\n",
    "else:\n",
    "    datadir = '/Users/padmaprabagaran/dev/honey-bee-behavior/Data/zenodo/beetrajectories_days_000_to_049/'\n",
    "\n"
   ]
  },
  {
   "cell_type": "markdown",
   "id": "8741ae13",
   "metadata": {},
   "source": [
    "## Parameters\n",
    "#### daynum: <br/> framenum: <br/> uid: unique identification of each bee <br/> x: <br/> y: <br/> camera: <br/> theta:\n"
   ]
  },
  {
   "cell_type": "code",
   "execution_count": 18,
   "id": "674497b0",
   "metadata": {},
   "outputs": [],
   "source": [
    "df = pd.read_hdf('{}beetrajectories_{:0>3}.hdf'.format(datadir,daynum))"
   ]
  },
  {
   "cell_type": "code",
   "execution_count": 19,
   "id": "1a0a9338",
   "metadata": {},
   "outputs": [
    {
     "name": "stdout",
     "output_type": "stream",
     "text": [
      "<class 'pandas.core.frame.DataFrame'>\n",
      "Int64Index: 7882401 entries, 0 to 7882400\n",
      "Data columns (total 7 columns):\n",
      " #   Column    Dtype  \n",
      "---  ------    -----  \n",
      " 0   daynum    int64  \n",
      " 1   framenum  int64  \n",
      " 2   uid       int64  \n",
      " 3   x         int64  \n",
      " 4   y         int64  \n",
      " 5   camera    int64  \n",
      " 6   theta     float64\n",
      "dtypes: float64(1), int64(6)\n",
      "memory usage: 481.1 MB\n"
     ]
    }
   ],
   "source": [
    "df.info()"
   ]
  },
  {
   "cell_type": "code",
   "execution_count": 21,
   "id": "e6ea5d47",
   "metadata": {},
   "outputs": [
    {
     "data": {
      "text/plain": [
       "(7882401, 7)"
      ]
     },
     "execution_count": 21,
     "metadata": {},
     "output_type": "execute_result"
    }
   ],
   "source": [
    "df.shape"
   ]
  },
  {
   "cell_type": "code",
   "execution_count": 22,
   "id": "b05bc22c",
   "metadata": {},
   "outputs": [
    {
     "data": {
      "text/html": [
       "<div>\n",
       "<style scoped>\n",
       "    .dataframe tbody tr th:only-of-type {\n",
       "        vertical-align: middle;\n",
       "    }\n",
       "\n",
       "    .dataframe tbody tr th {\n",
       "        vertical-align: top;\n",
       "    }\n",
       "\n",
       "    .dataframe thead th {\n",
       "        text-align: right;\n",
       "    }\n",
       "</style>\n",
       "<table border=\"1\" class=\"dataframe\">\n",
       "  <thead>\n",
       "    <tr style=\"text-align: right;\">\n",
       "      <th></th>\n",
       "      <th>daynum</th>\n",
       "      <th>framenum</th>\n",
       "      <th>uid</th>\n",
       "      <th>x</th>\n",
       "      <th>y</th>\n",
       "      <th>camera</th>\n",
       "      <th>theta</th>\n",
       "    </tr>\n",
       "  </thead>\n",
       "  <tbody>\n",
       "    <tr>\n",
       "      <th>0</th>\n",
       "      <td>73</td>\n",
       "      <td>4</td>\n",
       "      <td>3127</td>\n",
       "      <td>2623</td>\n",
       "      <td>4760</td>\n",
       "      <td>0</td>\n",
       "      <td>0.990359</td>\n",
       "    </tr>\n",
       "    <tr>\n",
       "      <th>1</th>\n",
       "      <td>73</td>\n",
       "      <td>5</td>\n",
       "      <td>3127</td>\n",
       "      <td>2624</td>\n",
       "      <td>4760</td>\n",
       "      <td>0</td>\n",
       "      <td>0.978603</td>\n",
       "    </tr>\n",
       "    <tr>\n",
       "      <th>2</th>\n",
       "      <td>73</td>\n",
       "      <td>6</td>\n",
       "      <td>3127</td>\n",
       "      <td>2623</td>\n",
       "      <td>4760</td>\n",
       "      <td>0</td>\n",
       "      <td>0.974273</td>\n",
       "    </tr>\n",
       "    <tr>\n",
       "      <th>3</th>\n",
       "      <td>73</td>\n",
       "      <td>7</td>\n",
       "      <td>3127</td>\n",
       "      <td>2624</td>\n",
       "      <td>4760</td>\n",
       "      <td>0</td>\n",
       "      <td>0.917898</td>\n",
       "    </tr>\n",
       "    <tr>\n",
       "      <th>4</th>\n",
       "      <td>73</td>\n",
       "      <td>8</td>\n",
       "      <td>3127</td>\n",
       "      <td>2623</td>\n",
       "      <td>4760</td>\n",
       "      <td>0</td>\n",
       "      <td>0.958766</td>\n",
       "    </tr>\n",
       "  </tbody>\n",
       "</table>\n",
       "</div>"
      ],
      "text/plain": [
       "   daynum  framenum   uid     x     y  camera     theta\n",
       "0      73         4  3127  2623  4760       0  0.990359\n",
       "1      73         5  3127  2624  4760       0  0.978603\n",
       "2      73         6  3127  2623  4760       0  0.974273\n",
       "3      73         7  3127  2624  4760       0  0.917898\n",
       "4      73         8  3127  2623  4760       0  0.958766"
      ]
     },
     "execution_count": 22,
     "metadata": {},
     "output_type": "execute_result"
    }
   ],
   "source": [
    "df.head()"
   ]
  },
  {
   "cell_type": "code",
   "execution_count": 23,
   "id": "31e4a5a1",
   "metadata": {},
   "outputs": [
    {
     "data": {
      "text/plain": [
       "Index(['daynum', 'framenum', 'uid', 'x', 'y', 'camera', 'theta'], dtype='object')"
      ]
     },
     "execution_count": 23,
     "metadata": {},
     "output_type": "execute_result"
    }
   ],
   "source": [
    "df.columns"
   ]
  },
  {
   "cell_type": "markdown",
   "id": "9011b75a",
   "metadata": {},
   "source": [
    "## What type of values are there in each variable"
   ]
  },
  {
   "cell_type": "code",
   "execution_count": 24,
   "id": "1764cc7e",
   "metadata": {},
   "outputs": [
    {
     "data": {
      "text/plain": [
       "daynum            1\n",
       "framenum     259195\n",
       "uid             187\n",
       "x              2228\n",
       "y              4213\n",
       "camera            2\n",
       "theta       1753309\n",
       "dtype: int64"
      ]
     },
     "execution_count": 24,
     "metadata": {},
     "output_type": "execute_result"
    }
   ],
   "source": [
    "df.nunique(axis=0)"
   ]
  },
  {
   "cell_type": "code",
   "execution_count": 34,
   "id": "85b4f4af",
   "metadata": {},
   "outputs": [
    {
     "data": {
      "text/plain": [
       "array([     4,      5,      6, ..., 253156, 253161, 253166])"
      ]
     },
     "execution_count": 34,
     "metadata": {},
     "output_type": "execute_result"
    }
   ],
   "source": [
    "# values of framenum\n",
    "# 3 frames for every second of the day\n",
    "df.framenum.unique()"
   ]
  },
  {
   "cell_type": "code",
   "execution_count": null,
   "id": "826440d8",
   "metadata": {},
   "outputs": [],
   "source": [
    "# there are 187 bees in this dataframe\n",
    "# check\n",
    "# len(df.uid.unique())"
   ]
  },
  {
   "cell_type": "markdown",
   "id": "12291d9c",
   "metadata": {},
   "source": [
    "## Bees that most frequently captured"
   ]
  },
  {
   "cell_type": "code",
   "execution_count": 37,
   "id": "f8e054ad",
   "metadata": {},
   "outputs": [
    {
     "data": {
      "text/plain": [
       "5214    139397\n",
       "4937    136050\n",
       "4617    118872\n",
       "3804    112829\n",
       "5333    106670\n",
       "         ...  \n",
       "3139      2307\n",
       "5276      2139\n",
       "4964      1904\n",
       "5247       906\n",
       "5215       293\n",
       "Name: uid, Length: 187, dtype: int64"
      ]
     },
     "execution_count": 37,
     "metadata": {},
     "output_type": "execute_result"
    }
   ],
   "source": [
    "df['uid'].value_counts()"
   ]
  },
  {
   "cell_type": "code",
   "execution_count": 36,
   "id": "c8d64522",
   "metadata": {},
   "outputs": [
    {
     "data": {
      "text/plain": [
       "5214    139397\n",
       "4937    136050\n",
       "4617    118872\n",
       "3804    112829\n",
       "5333    106670\n",
       "5050    102278\n",
       "5164     99567\n",
       "5081     99382\n",
       "5142     99118\n",
       "4945     97880\n",
       "5001     96971\n",
       "5076     96659\n",
       "4520     95285\n",
       "3501     94643\n",
       "5021     92657\n",
       "3797     91101\n",
       "3194     90838\n",
       "3415     90536\n",
       "5228     90201\n",
       "3421     89491\n",
       "Name: uid, dtype: int64"
      ]
     },
     "execution_count": 36,
     "metadata": {},
     "output_type": "execute_result"
    }
   ],
   "source": [
    "# top 20 most frequently seen bees \n",
    "df['uid'].value_counts().head(n=20)"
   ]
  },
  {
   "cell_type": "markdown",
   "id": "baa4ee6d",
   "metadata": {},
   "source": [
    "## At which timeframe were the bees most active on this day"
   ]
  },
  {
   "cell_type": "code",
   "execution_count": 58,
   "id": "168a05c6",
   "metadata": {},
   "outputs": [
    {
     "data": {
      "text/plain": [
       "framenum\n",
       "106163    53\n",
       "106183    53\n",
       "106164    52\n",
       "106154    52\n",
       "106179    52\n",
       "106132    52\n",
       "106131    51\n",
       "106118    51\n",
       "106156    51\n",
       "106139    51\n",
       "106138    51\n",
       "106161    51\n",
       "106182    51\n",
       "106162    51\n",
       "236409    50\n",
       "236396    50\n",
       "106167    50\n",
       "106152    50\n",
       "106173    50\n",
       "106140    50\n",
       "236395    50\n",
       "236382    50\n",
       "199885    50\n",
       "236383    50\n",
       "199879    50\n",
       "236958    50\n",
       "106180    50\n",
       "106136    50\n",
       "106181    50\n",
       "106155    50\n",
       "106157    50\n",
       "106186    50\n",
       "236410    50\n",
       "106189    50\n",
       "106188    50\n",
       "106117    50\n",
       "106190    50\n",
       "106119    50\n",
       "106187    50\n",
       "236412    50\n",
       "199880    50\n",
       "106129    50\n",
       "236400    50\n",
       "236377    49\n",
       "236869    49\n",
       "236870    49\n",
       "236397    49\n",
       "236376    49\n",
       "199817    49\n",
       "236378    49\n",
       "Name: uid, dtype: int64"
      ]
     },
     "execution_count": 58,
     "metadata": {},
     "output_type": "execute_result"
    }
   ],
   "source": [
    "\"\"\" assumption: I am assuming that the more bees that are present in \n",
    " the camera frame is when the bees are most active \"\"\"\n",
    "\n",
    "df.groupby('framenum')['uid'].count().sort_values(ascending=False).head(50)"
   ]
  },
  {
   "cell_type": "code",
   "execution_count": 72,
   "id": "b67b37ca",
   "metadata": {},
   "outputs": [
    {
     "data": {
      "text/html": [
       "<div>\n",
       "<style scoped>\n",
       "    .dataframe tbody tr th:only-of-type {\n",
       "        vertical-align: middle;\n",
       "    }\n",
       "\n",
       "    .dataframe tbody tr th {\n",
       "        vertical-align: top;\n",
       "    }\n",
       "\n",
       "    .dataframe thead th {\n",
       "        text-align: right;\n",
       "    }\n",
       "</style>\n",
       "<table border=\"1\" class=\"dataframe\">\n",
       "  <thead>\n",
       "    <tr style=\"text-align: right;\">\n",
       "      <th></th>\n",
       "      <th>daynum</th>\n",
       "      <th>framenum</th>\n",
       "      <th>uid</th>\n",
       "      <th>x</th>\n",
       "      <th>y</th>\n",
       "      <th>camera</th>\n",
       "      <th>theta</th>\n",
       "    </tr>\n",
       "  </thead>\n",
       "  <tbody>\n",
       "    <tr>\n",
       "      <th>101</th>\n",
       "      <td>73</td>\n",
       "      <td>0</td>\n",
       "      <td>3135</td>\n",
       "      <td>2198</td>\n",
       "      <td>4415</td>\n",
       "      <td>0</td>\n",
       "      <td>-2.013450</td>\n",
       "    </tr>\n",
       "    <tr>\n",
       "      <th>272</th>\n",
       "      <td>73</td>\n",
       "      <td>180</td>\n",
       "      <td>3135</td>\n",
       "      <td>2033</td>\n",
       "      <td>4679</td>\n",
       "      <td>0</td>\n",
       "      <td>1.275610</td>\n",
       "    </tr>\n",
       "    <tr>\n",
       "      <th>424</th>\n",
       "      <td>73</td>\n",
       "      <td>360</td>\n",
       "      <td>3135</td>\n",
       "      <td>1318</td>\n",
       "      <td>3607</td>\n",
       "      <td>0</td>\n",
       "      <td>-1.728880</td>\n",
       "    </tr>\n",
       "    <tr>\n",
       "      <th>534</th>\n",
       "      <td>73</td>\n",
       "      <td>3060</td>\n",
       "      <td>3135</td>\n",
       "      <td>1654</td>\n",
       "      <td>4967</td>\n",
       "      <td>0</td>\n",
       "      <td>-1.848600</td>\n",
       "    </tr>\n",
       "    <tr>\n",
       "      <th>692</th>\n",
       "      <td>73</td>\n",
       "      <td>4140</td>\n",
       "      <td>3135</td>\n",
       "      <td>1678</td>\n",
       "      <td>4943</td>\n",
       "      <td>0</td>\n",
       "      <td>-1.869660</td>\n",
       "    </tr>\n",
       "    <tr>\n",
       "      <th>...</th>\n",
       "      <td>...</td>\n",
       "      <td>...</td>\n",
       "      <td>...</td>\n",
       "      <td>...</td>\n",
       "      <td>...</td>\n",
       "      <td>...</td>\n",
       "      <td>...</td>\n",
       "    </tr>\n",
       "    <tr>\n",
       "      <th>7881555</th>\n",
       "      <td>73</td>\n",
       "      <td>257400</td>\n",
       "      <td>5338</td>\n",
       "      <td>1904</td>\n",
       "      <td>4808</td>\n",
       "      <td>0</td>\n",
       "      <td>0.629268</td>\n",
       "    </tr>\n",
       "    <tr>\n",
       "      <th>7881714</th>\n",
       "      <td>73</td>\n",
       "      <td>257580</td>\n",
       "      <td>5338</td>\n",
       "      <td>1831</td>\n",
       "      <td>4743</td>\n",
       "      <td>0</td>\n",
       "      <td>-1.834670</td>\n",
       "    </tr>\n",
       "    <tr>\n",
       "      <th>7882010</th>\n",
       "      <td>73</td>\n",
       "      <td>257940</td>\n",
       "      <td>5338</td>\n",
       "      <td>2087</td>\n",
       "      <td>4478</td>\n",
       "      <td>0</td>\n",
       "      <td>2.920020</td>\n",
       "    </tr>\n",
       "    <tr>\n",
       "      <th>7882174</th>\n",
       "      <td>73</td>\n",
       "      <td>258120</td>\n",
       "      <td>5338</td>\n",
       "      <td>1591</td>\n",
       "      <td>4519</td>\n",
       "      <td>0</td>\n",
       "      <td>3.135500</td>\n",
       "    </tr>\n",
       "    <tr>\n",
       "      <th>7882267</th>\n",
       "      <td>73</td>\n",
       "      <td>259020</td>\n",
       "      <td>5338</td>\n",
       "      <td>1846</td>\n",
       "      <td>4704</td>\n",
       "      <td>0</td>\n",
       "      <td>-0.802180</td>\n",
       "    </tr>\n",
       "  </tbody>\n",
       "</table>\n",
       "<p>43735 rows × 7 columns</p>\n",
       "</div>"
      ],
      "text/plain": [
       "         daynum  framenum   uid     x     y  camera     theta\n",
       "101          73         0  3135  2198  4415       0 -2.013450\n",
       "272          73       180  3135  2033  4679       0  1.275610\n",
       "424          73       360  3135  1318  3607       0 -1.728880\n",
       "534          73      3060  3135  1654  4967       0 -1.848600\n",
       "692          73      4140  3135  1678  4943       0 -1.869660\n",
       "...         ...       ...   ...   ...   ...     ...       ...\n",
       "7881555      73    257400  5338  1904  4808       0  0.629268\n",
       "7881714      73    257580  5338  1831  4743       0 -1.834670\n",
       "7882010      73    257940  5338  2087  4478       0  2.920020\n",
       "7882174      73    258120  5338  1591  4519       0  3.135500\n",
       "7882267      73    259020  5338  1846  4704       0 -0.802180\n",
       "\n",
       "[43735 rows x 7 columns]"
      ]
     },
     "execution_count": 72,
     "metadata": {},
     "output_type": "execute_result"
    }
   ],
   "source": [
    "df_min = df[df.framenum % (3*60) == 0]\n",
    "df_min"
   ]
  },
  {
   "cell_type": "code",
   "execution_count": 82,
   "id": "c5c0148c",
   "metadata": {},
   "outputs": [
    {
     "data": {
      "text/plain": [
       "[<matplotlib.lines.Line2D at 0x7ff47c64c3d0>]"
      ]
     },
     "execution_count": 82,
     "metadata": {},
     "output_type": "execute_result"
    },
    {
     "data": {
      "image/png": "[encoded data removed]",
      "text/plain": [
       "<Figure size 432x288 with 1 Axes>"
      ]
     },
     "metadata": {
      "needs_background": "light"
     },
     "output_type": "display_data"
    }
   ],
   "source": [
    "counts = df.groupby('framenum')['uid'].count()\n",
    "plt.plot(counts.index,counts.values)"
   ]
  },
  {
   "cell_type": "markdown",
   "id": "05be3595",
   "metadata": {},
   "source": [
    "#### there are noticeable drops in activity in consistent intervals (why?)"
   ]
  },
  {
   "cell_type": "markdown",
   "id": "84451fa0",
   "metadata": {},
   "source": [
    "## Foraging"
   ]
  },
  {
   "cell_type": "code",
   "execution_count": 40,
   "id": "bd6f7914",
   "metadata": {},
   "outputs": [],
   "source": [
    "## TO DO: Find documentation for datafunctions or document data functions after \n",
    "## testing each function\n",
    "\n",
    "from bees_lifetimetracking_2018data import datafunctions"
   ]
  },
  {
   "cell_type": "code",
   "execution_count": 44,
   "id": "7e956a10",
   "metadata": {},
   "outputs": [
    {
     "data": {
      "text/html": [
       "<div>\n",
       "<style scoped>\n",
       "    .dataframe tbody tr th:only-of-type {\n",
       "        vertical-align: middle;\n",
       "    }\n",
       "\n",
       "    .dataframe tbody tr th {\n",
       "        vertical-align: top;\n",
       "    }\n",
       "\n",
       "    .dataframe thead th {\n",
       "        text-align: right;\n",
       "    }\n",
       "</style>\n",
       "<table border=\"1\" class=\"dataframe\">\n",
       "  <thead>\n",
       "    <tr style=\"text-align: right;\">\n",
       "      <th></th>\n",
       "      <th>Age</th>\n",
       "      <th>Num. observations</th>\n",
       "      <th>Honey</th>\n",
       "      <th>Brood care</th>\n",
       "      <th>Pollen</th>\n",
       "      <th>Dance floor</th>\n",
       "      <th>Other</th>\n",
       "      <th>Frame 0</th>\n",
       "      <th>Frame 1</th>\n",
       "      <th>Frame 2</th>\n",
       "      <th>...</th>\n",
       "      <th>Num. outside trips</th>\n",
       "      <th>Num. dance floor visits</th>\n",
       "      <th>Dispersion-minute avg.</th>\n",
       "      <th>Frame 0 - Num. crossings</th>\n",
       "      <th>Frame 1 - Num. crossings</th>\n",
       "      <th>Frame 2 - Num. crossings</th>\n",
       "      <th>Frame 3 - Num. crossings</th>\n",
       "      <th>Frame 4 - Num. crossings</th>\n",
       "      <th>Frame 5 - Num. crossings</th>\n",
       "      <th>timedivision</th>\n",
       "    </tr>\n",
       "  </thead>\n",
       "  <tbody>\n",
       "    <tr>\n",
       "      <th>0</th>\n",
       "      <td>47.0</td>\n",
       "      <td>101.0</td>\n",
       "      <td>0.0</td>\n",
       "      <td>0.0</td>\n",
       "      <td>0.0</td>\n",
       "      <td>0.346535</td>\n",
       "      <td>0.653465</td>\n",
       "      <td>0.0</td>\n",
       "      <td>0.0</td>\n",
       "      <td>0.0</td>\n",
       "      <td>...</td>\n",
       "      <td>0.0</td>\n",
       "      <td>1.0</td>\n",
       "      <td>122.080549</td>\n",
       "      <td>0.0</td>\n",
       "      <td>0.0</td>\n",
       "      <td>0.0</td>\n",
       "      <td>0.0</td>\n",
       "      <td>0.0</td>\n",
       "      <td>0.0</td>\n",
       "      <td>0.0</td>\n",
       "    </tr>\n",
       "    <tr>\n",
       "      <th>1</th>\n",
       "      <td>47.0</td>\n",
       "      <td>171.0</td>\n",
       "      <td>0.0</td>\n",
       "      <td>0.0</td>\n",
       "      <td>0.0</td>\n",
       "      <td>1.000000</td>\n",
       "      <td>0.000000</td>\n",
       "      <td>0.0</td>\n",
       "      <td>0.0</td>\n",
       "      <td>0.0</td>\n",
       "      <td>...</td>\n",
       "      <td>0.0</td>\n",
       "      <td>0.0</td>\n",
       "      <td>82.578514</td>\n",
       "      <td>0.0</td>\n",
       "      <td>0.0</td>\n",
       "      <td>0.0</td>\n",
       "      <td>0.0</td>\n",
       "      <td>0.0</td>\n",
       "      <td>0.0</td>\n",
       "      <td>0.0</td>\n",
       "    </tr>\n",
       "    <tr>\n",
       "      <th>2</th>\n",
       "      <td>47.0</td>\n",
       "      <td>NaN</td>\n",
       "      <td>NaN</td>\n",
       "      <td>NaN</td>\n",
       "      <td>NaN</td>\n",
       "      <td>NaN</td>\n",
       "      <td>NaN</td>\n",
       "      <td>NaN</td>\n",
       "      <td>NaN</td>\n",
       "      <td>NaN</td>\n",
       "      <td>...</td>\n",
       "      <td>0.0</td>\n",
       "      <td>0.0</td>\n",
       "      <td>0.000000</td>\n",
       "      <td>0.0</td>\n",
       "      <td>0.0</td>\n",
       "      <td>0.0</td>\n",
       "      <td>0.0</td>\n",
       "      <td>0.0</td>\n",
       "      <td>0.0</td>\n",
       "      <td>0.0</td>\n",
       "    </tr>\n",
       "    <tr>\n",
       "      <th>3</th>\n",
       "      <td>47.0</td>\n",
       "      <td>NaN</td>\n",
       "      <td>NaN</td>\n",
       "      <td>NaN</td>\n",
       "      <td>NaN</td>\n",
       "      <td>NaN</td>\n",
       "      <td>NaN</td>\n",
       "      <td>NaN</td>\n",
       "      <td>NaN</td>\n",
       "      <td>NaN</td>\n",
       "      <td>...</td>\n",
       "      <td>0.0</td>\n",
       "      <td>0.0</td>\n",
       "      <td>0.000000</td>\n",
       "      <td>0.0</td>\n",
       "      <td>0.0</td>\n",
       "      <td>0.0</td>\n",
       "      <td>0.0</td>\n",
       "      <td>0.0</td>\n",
       "      <td>0.0</td>\n",
       "      <td>0.0</td>\n",
       "    </tr>\n",
       "    <tr>\n",
       "      <th>4</th>\n",
       "      <td>47.0</td>\n",
       "      <td>NaN</td>\n",
       "      <td>NaN</td>\n",
       "      <td>NaN</td>\n",
       "      <td>NaN</td>\n",
       "      <td>NaN</td>\n",
       "      <td>NaN</td>\n",
       "      <td>NaN</td>\n",
       "      <td>NaN</td>\n",
       "      <td>NaN</td>\n",
       "      <td>...</td>\n",
       "      <td>0.0</td>\n",
       "      <td>0.0</td>\n",
       "      <td>0.000000</td>\n",
       "      <td>0.0</td>\n",
       "      <td>0.0</td>\n",
       "      <td>0.0</td>\n",
       "      <td>0.0</td>\n",
       "      <td>0.0</td>\n",
       "      <td>0.0</td>\n",
       "      <td>0.0</td>\n",
       "    </tr>\n",
       "  </tbody>\n",
       "</table>\n",
       "<p>5 rows × 36 columns</p>\n",
       "</div>"
      ],
      "text/plain": [
       "    Age  Num. observations  Honey  Brood care  Pollen  Dance floor     Other  \\\n",
       "0  47.0              101.0    0.0         0.0     0.0     0.346535  0.653465   \n",
       "1  47.0              171.0    0.0         0.0     0.0     1.000000  0.000000   \n",
       "2  47.0                NaN    NaN         NaN     NaN          NaN       NaN   \n",
       "3  47.0                NaN    NaN         NaN     NaN          NaN       NaN   \n",
       "4  47.0                NaN    NaN         NaN     NaN          NaN       NaN   \n",
       "\n",
       "   Frame 0  Frame 1  Frame 2  ...  Num. outside trips  \\\n",
       "0      0.0      0.0      0.0  ...                 0.0   \n",
       "1      0.0      0.0      0.0  ...                 0.0   \n",
       "2      NaN      NaN      NaN  ...                 0.0   \n",
       "3      NaN      NaN      NaN  ...                 0.0   \n",
       "4      NaN      NaN      NaN  ...                 0.0   \n",
       "\n",
       "   Num. dance floor visits  Dispersion-minute avg.  Frame 0 - Num. crossings  \\\n",
       "0                      1.0              122.080549                       0.0   \n",
       "1                      0.0               82.578514                       0.0   \n",
       "2                      0.0                0.000000                       0.0   \n",
       "3                      0.0                0.000000                       0.0   \n",
       "4                      0.0                0.000000                       0.0   \n",
       "\n",
       "   Frame 1 - Num. crossings  Frame 2 - Num. crossings  \\\n",
       "0                       0.0                       0.0   \n",
       "1                       0.0                       0.0   \n",
       "2                       0.0                       0.0   \n",
       "3                       0.0                       0.0   \n",
       "4                       0.0                       0.0   \n",
       "\n",
       "   Frame 3 - Num. crossings  Frame 4 - Num. crossings  \\\n",
       "0                       0.0                       0.0   \n",
       "1                       0.0                       0.0   \n",
       "2                       0.0                       0.0   \n",
       "3                       0.0                       0.0   \n",
       "4                       0.0                       0.0   \n",
       "\n",
       "   Frame 5 - Num. crossings  timedivision  \n",
       "0                       0.0           0.0  \n",
       "1                       0.0           0.0  \n",
       "2                       0.0           0.0  \n",
       "3                       0.0           0.0  \n",
       "4                       0.0           0.0  \n",
       "\n",
       "[5 rows x 36 columns]"
      ]
     },
     "execution_count": 44,
     "metadata": {},
     "output_type": "execute_result"
    }
   ],
   "source": [
    "dataDir = '/Users/padmaprabagaran/dev/honey-bee-behavior/Data/zenodo/df_day1min_alldays/'\n",
    "dfday = pd.read_hdf(dataDir+'df_day1min_73.hdf')\n",
    "dfday.head()"
   ]
  },
  {
   "cell_type": "code",
   "execution_count": 45,
   "id": "bbf3dc35",
   "metadata": {},
   "outputs": [
    {
     "name": "stdout",
     "output_type": "stream",
     "text": [
      "<class 'pandas.core.frame.DataFrame'>\n",
      "Int64Index: 269280 entries, 0 to 269279\n",
      "Data columns (total 36 columns):\n",
      " #   Column                    Non-Null Count   Dtype  \n",
      "---  ------                    --------------   -----  \n",
      " 0   Age                       269280 non-null  float64\n",
      " 1   Num. observations         55772 non-null   float64\n",
      " 2   Honey                     55772 non-null   float64\n",
      " 3   Brood care                55772 non-null   float64\n",
      " 4   Pollen                    55772 non-null   float64\n",
      " 5   Dance floor               55772 non-null   float64\n",
      " 6   Other                     55772 non-null   float64\n",
      " 7   Frame 0                   55772 non-null   float64\n",
      " 8   Frame 1                   55772 non-null   float64\n",
      " 9   Frame 2                   55772 non-null   float64\n",
      " 10  Frame 3                   55772 non-null   float64\n",
      " 11  Frame 4                   55772 non-null   float64\n",
      " 12  Frame 5                   55772 non-null   float64\n",
      " 13  Median speed              269280 non-null  float64\n",
      " 14  Speed IQR                 269280 non-null  float64\n",
      " 15  Speed 90th quantile       269280 non-null  float64\n",
      " 16  Dispersion (avg)          269280 non-null  float64\n",
      " 17  Exit distance (median)    269280 non-null  float64\n",
      " 18  Fraction squares visited  0 non-null       float64\n",
      " 19  Day number                269280 non-null  float64\n",
      " 20  Festoon                   0 non-null       float64\n",
      " 21  Empty comb                269280 non-null  float64\n",
      " 22  blank1                    0 non-null       float64\n",
      " 23  blank2                    0 non-null       float64\n",
      " 24  Bee unique ID             269280 non-null  float64\n",
      " 25  Cohort ID                 269280 non-null  float64\n",
      " 26  Num. outside trips        269280 non-null  float64\n",
      " 27  Num. dance floor visits   269280 non-null  float64\n",
      " 28  Dispersion-minute avg.    269280 non-null  float64\n",
      " 29  Frame 0 - Num. crossings  269280 non-null  float64\n",
      " 30  Frame 1 - Num. crossings  269280 non-null  float64\n",
      " 31  Frame 2 - Num. crossings  269280 non-null  float64\n",
      " 32  Frame 3 - Num. crossings  269280 non-null  float64\n",
      " 33  Frame 4 - Num. crossings  269280 non-null  float64\n",
      " 34  Frame 5 - Num. crossings  269280 non-null  float64\n",
      " 35  timedivision              269280 non-null  float64\n",
      "dtypes: float64(36)\n",
      "memory usage: 76.0 MB\n"
     ]
    }
   ],
   "source": [
    "dfday.info()"
   ]
  },
  {
   "cell_type": "code",
   "execution_count": 47,
   "id": "734e0e63",
   "metadata": {},
   "outputs": [
    {
     "data": {
      "text/plain": [
       "187"
      ]
     },
     "execution_count": 47,
     "metadata": {},
     "output_type": "execute_result"
    }
   ],
   "source": [
    "len(dfday['Bee unique ID'].unique())\n",
    "## matches with the dataframe above"
   ]
  },
  {
   "cell_type": "code",
   "execution_count": 48,
   "id": "380f7c39",
   "metadata": {},
   "outputs": [
    {
     "data": {
      "text/plain": [
       "Age                             5\n",
       "Num. observations             171\n",
       "Honey                        6072\n",
       "Brood care                   3274\n",
       "Pollen                       3028\n",
       "Dance floor                  5127\n",
       "Other                       10657\n",
       "Frame 0                       546\n",
       "Frame 1                       864\n",
       "Frame 2                       213\n",
       "Frame 3                       603\n",
       "Frame 4                      2503\n",
       "Frame 5                      2157\n",
       "Median speed                 1879\n",
       "Speed IQR                   10850\n",
       "Speed 90th quantile         15036\n",
       "Dispersion (avg)            53236\n",
       "Exit distance (median)      45076\n",
       "Fraction squares visited        0\n",
       "Day number                      1\n",
       "Festoon                         0\n",
       "Empty comb                   1309\n",
       "blank1                          0\n",
       "blank2                          0\n",
       "Bee unique ID                 187\n",
       "Cohort ID                       5\n",
       "Num. outside trips              1\n",
       "Num. dance floor visits        19\n",
       "Dispersion-minute avg.      53236\n",
       "Frame 0 - Num. crossings        9\n",
       "Frame 1 - Num. crossings       14\n",
       "Frame 2 - Num. crossings       13\n",
       "Frame 3 - Num. crossings        9\n",
       "Frame 4 - Num. crossings       16\n",
       "Frame 5 - Num. crossings       16\n",
       "timedivision                 1440\n",
       "dtype: int64"
      ]
     },
     "execution_count": 48,
     "metadata": {},
     "output_type": "execute_result"
    }
   ],
   "source": [
    "dfday.nunique(axis=0)"
   ]
  },
  {
   "cell_type": "markdown",
   "id": "1dde0d67",
   "metadata": {},
   "source": [
    "#### Are parameters festoon, fraction squares visited, blank1, blank2 needed?"
   ]
  },
  {
   "cell_type": "code",
   "execution_count": null,
   "id": "d46b6adf",
   "metadata": {},
   "outputs": [],
   "source": [
    "# number of unique bees foraging per day"
   ]
  },
  {
   "cell_type": "code",
   "execution_count": null,
   "id": "53053c3a",
   "metadata": {},
   "outputs": [],
   "source": [
    "# .get_inout_estimates : \n",
    "\n",
    "numtimedivs = len(dfday['timedivision'].unique())\n",
    "day_uids, day_ages, all_inhive, bee_obs, \n",
    "                bee_exitdist = datafunctions.get_inout_estimates(dfday,\n",
    "                                                                 numtimedivs=numtimedivs)"
   ]
  },
  {
   "cell_type": "code",
   "execution_count": null,
   "id": "a20f68d9",
   "metadata": {},
   "outputs": [],
   "source": []
  }
 ],
 "metadata": {
  "kernelspec": {
   "display_name": "Python 3 (ipykernel)",
   "language": "python",
   "name": "python3"
  },
  "language_info": {
   "codemirror_mode": {
    "name": "ipython",
    "version": 3
   },
   "file_extension": ".py",
   "mimetype": "text/x-python",
   "name": "python",
   "nbconvert_exporter": "python",
   "pygments_lexer": "ipython3",
   "version": "3.8.13"
  }
 },
 "nbformat": 4,
 "nbformat_minor": 5
}
