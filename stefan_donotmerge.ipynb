{
 "cells": [
  {
   "cell_type": "markdown",
   "id": "abd07bba-a3f2-4ef8-a34e-d389ac2d8027",
   "metadata": {},
   "source": [
    "### Week of 9/13 - 9/20 + Week of 9/27 - 10/4 + wherever we're at now"
   ]
  },
  {
   "cell_type": "markdown",
   "id": "27aa19cc-0f95-442d-b3dd-bddea75206f2",
   "metadata": {},
   "source": [
    "pip install:\n",
    "scipy\n",
    "seaborn\n",
    "pandas\n",
    "tables"
   ]
  },
  {
   "cell_type": "markdown",
   "id": "438fd5a9-6339-405f-ae92-84b61f9ee7cc",
   "metadata": {},
   "source": [
    "Relevant function from comb-building, addition/modification for foraging below"
   ]
  },
  {
   "cell_type": "code",
   "execution_count": 5,
   "id": "293622d6-153d-4af3-a444-8a6a144e4946",
   "metadata": {},
   "outputs": [],
   "source": [
    "import pandas as pd\n",
    "import numpy as np\n",
    "import pickle, gzip\n",
    "import matplotlib.pyplot as plt\n",
    "%matplotlib inline\n",
    "#from toolbox import defaultFigure\n",
    "#defaultFigure.setDefaultParams()\n",
    "#from toolbox import gifsicle\n",
    "from importlib import reload  \n",
    "import datetime as dt\n",
    "import random\n",
    "import cProfile\n",
    "#from tqdm import tqdm"
   ]
  },
  {
   "cell_type": "code",
   "execution_count": 23,
   "id": "9a0f5997-06c6-4366-82b0-7fc0c967a045",
   "metadata": {},
   "outputs": [],
   "source": [
    "trajectory_days_to_load = [4,]"
   ]
  },
  {
   "cell_type": "code",
   "execution_count": 24,
   "id": "d6fe3fd2-004b-4ba9-a66e-aa53d81811ac",
   "metadata": {},
   "outputs": [],
   "source": [
    "trajectory_data_dir = '../bee-data/beetrajectories_days_000_to_049/'"
   ]
  },
  {
   "cell_type": "code",
   "execution_count": 26,
   "id": "f23d4479-d128-4423-a63d-0d5c4d35829f",
   "metadata": {},
   "outputs": [],
   "source": [
    "#dfTrajList = [ pd.read_hdf('{}beetrajectories_{:03d}.hdf'.format(trajectory_data_dir,daynum)) for daynum in days_to_load ]\n",
    "#dfTraj = pd.concat(dfTrajList) # avoid explicitly creating list to save memory\n",
    "filenames = [ '{}beetrajectories_{:03d}.hdf'.format(trajectory_data_dir,daynum) for daynum in trajectory_days_to_load ]\n",
    "dfTraj = pd.concat(map(pd.read_hdf,filenames))"
   ]
  },
  {
   "cell_type": "code",
   "execution_count": 27,
   "id": "e3874202-a25b-49ef-98e9-373e70f5dc9c",
   "metadata": {},
   "outputs": [],
   "source": [
    "def interaction_events(dfTraj,beeID,minTime,maxTime,distance_thresh=10):\n",
    "    \"\"\"\n",
    "    Returns dataFrame listing interaction events during which the bee with ID beeID is nearby another bee, within\n",
    "    the time window between minTime and maxTime.  Here \"nearby\" means within a distance threshold and on the same \n",
    "    side of the hive.\n",
    "\n",
    "    dfTraj                   : Trajectory dataframe containing framenumbers, (x,y) coordinates, and camera information.\n",
    "    minTime                  : Minimum time to scan for interaction events, as a datetime object\n",
    "    maxTime                  : Maximum time to scan for interaction events, as a datetime object\n",
    "    distance_thresh (10)     : Distance in pixels within which two bees must be imaged in the same frame to count as an interaction\n",
    "    \"\"\"\n",
    "    # select trajectory data from all bees from the desired time window\n",
    "    minFrame = datetime_to_framenum(minTime)\n",
    "    maxFrame = datetime_to_framenum(maxTime)\n",
    "    dfTraj_selected = dfTraj[(minFrame < dfTraj['framenum']) & (dfTraj['framenum'] < maxFrame)]\n",
    "\n",
    "    # select trajectory data from the selected bee\n",
    "    dfTraj_selected_bee = dfTraj_selected[dfTraj_selected['uid']==beeID]\n",
    "    \n",
    "    # loop over time looking for interaction events\n",
    "    interaction_data = []\n",
    "    for frame in dfTraj_selected_bee['framenum'].unique():\n",
    "        all_bee_frame_data = dfTraj_selected[dfTraj_selected['framenum']==frame]\n",
    "        \n",
    "        # get selected bee location for this time frame\n",
    "        selected_bee_frame_data = all_bee_frame_data[all_bee_frame_data['uid']==beeID]\n",
    "        beex = selected_bee_frame_data['x'].iloc[0],\n",
    "        beey = selected_bee_frame_data['y'].iloc[0]\n",
    "        beecamera = selected_bee_frame_data['camera'].iloc[0]\n",
    "\n",
    "        # find distances from all other bees seen by the same camera (same side of hive) at this time frame\n",
    "        all_bee_frame_data_same_side = all_bee_frame_data[all_bee_frame_data['camera']==beecamera]\n",
    "        distances = pd.Series(np.linalg.norm([all_bee_frame_data_same_side['x']-beex,\n",
    "                                              all_bee_frame_data_same_side['y']-beey],axis=0),\n",
    "                              index=all_bee_frame_data_same_side['uid'])\n",
    "\n",
    "        # append interaction data\n",
    "        for other_bee in distances[distances < distance_thresh].index:\n",
    "            if other_bee != beeID:\n",
    "                other_bee_frame_data = all_bee_frame_data_same_side[all_bee_frame_data_same_side['uid']==other_bee]\n",
    "                assert(len(other_bee_frame_data)==1) # should only have one timepoint for one bee in one frame\n",
    "                interaction_data.append([frame,\n",
    "                                         other_bee,\n",
    "                                         other_bee_frame_data['x'].iloc[0],\n",
    "                                         other_bee_frame_data['y'].iloc[0],\n",
    "                                         other_bee_frame_data['camera'].iloc[0],\n",
    "                                         distances[other_bee]])\n",
    "    \n",
    "    return pd.DataFrame(interaction_data,columns=['framenum','uid','x','y','camera','distance (pixels)'])"
   ]
  },
  {
   "cell_type": "code",
   "execution_count": 29,
   "id": "b58f26c0-f1b8-4068-a731-082c20874377",
   "metadata": {},
   "outputs": [],
   "source": [
    "def number_of_interactions(dfTraj, beeID, minTime, maxTime, distance_thresh):\n",
    "    interaction_matrix = interaction_events(dfTraj, beeID, minTime, maxTime, distance_thresh)\n",
    "    return length(interaction_matrix)\n",
    "    "
   ]
  },
  {
   "cell_type": "code",
   "execution_count": 30,
   "id": "bd7c782b-09f5-4322-99b1-1f4b51182faa",
   "metadata": {},
   "outputs": [
    {
     "ename": "NameError",
     "evalue": "name 'beeID' is not defined",
     "output_type": "error",
     "traceback": [
      "\u001b[0;31m---------------------------------------------------------------------------\u001b[0m",
      "\u001b[0;31mNameError\u001b[0m                                 Traceback (most recent call last)",
      "Cell \u001b[0;32mIn[30], line 8\u001b[0m\n\u001b[1;32m      5\u001b[0m         ages_list\u001b[38;5;241m.\u001b[39mappend(\u001b[38;5;124m'''\u001b[39m\u001b[38;5;124muid.age\u001b[39m\u001b[38;5;124m'''\u001b[39m)\n\u001b[1;32m      6\u001b[0m     \u001b[38;5;28;01mreturn\u001b[39;00m ages_list\n\u001b[0;32m----> 8\u001b[0m ages_list \u001b[38;5;241m=\u001b[39m interactions_ages(dfTraj, \u001b[43mbeeID\u001b[49m, minTime, maxTime, distance_thresh)\n\u001b[1;32m      9\u001b[0m average_interaction_age \u001b[38;5;241m=\u001b[39m \u001b[38;5;241m0\u001b[39m\n\u001b[1;32m     10\u001b[0m \u001b[38;5;28;01mfor\u001b[39;00m age \u001b[38;5;129;01min\u001b[39;00m ages_list:\n",
      "\u001b[0;31mNameError\u001b[0m: name 'beeID' is not defined"
     ]
    }
   ],
   "source": [
    "def interactions_ages(dfTraj, beeID, minTime, maxTime, distance_thresh):\n",
    "    interaction_matrix = interaction_events(dfTraj, beeID, minTime, maxTime, distance_thresh)\n",
    "    ages_list = []\n",
    "    for row in interaction_matrix:\n",
    "        ages_list.append('''uid.age''')\n",
    "    return ages_list\n",
    "\n",
    "ages_list = interactions_ages(dfTraj, beeID, minTime, maxTime, distance_thresh)\n",
    "average_interaction_age = 0\n",
    "for age in ages_list:\n",
    "    average_interaction_age += age\n",
    "average_interaction_age /= length(ages_list)"
   ]
  },
  {
   "cell_type": "code",
   "execution_count": 4,
   "id": "340e670e-2770-44fe-bde5-a0df29ed070b",
   "metadata": {},
   "outputs": [
    {
     "ename": "NameError",
     "evalue": "name 'dfTraj' is not defined",
     "output_type": "error",
     "traceback": [
      "\u001b[0;31m---------------------------------------------------------------------------\u001b[0m",
      "\u001b[0;31mNameError\u001b[0m                                 Traceback (most recent call last)",
      "Cell \u001b[0;32mIn[4], line 8\u001b[0m\n\u001b[1;32m      5\u001b[0m         forage_list\u001b[38;5;241m.\u001b[39mappend(\u001b[38;5;124m'''\u001b[39m\u001b[38;5;124mtime_to_forage(uid)\u001b[39m\u001b[38;5;124m'''\u001b[39m)\n\u001b[1;32m      6\u001b[0m     \u001b[38;5;28;01mreturn\u001b[39;00m forage_list\n\u001b[0;32m----> 8\u001b[0m foraging_list \u001b[38;5;241m=\u001b[39m time_to_forage_list(\u001b[43mdfTraj\u001b[49m, beeID, minTime, maxTime, distance_thresh)\n\u001b[1;32m      9\u001b[0m average_forage_time \u001b[38;5;241m=\u001b[39m \u001b[38;5;241m0\u001b[39m\n\u001b[1;32m     10\u001b[0m \u001b[38;5;28;01mfor\u001b[39;00m time \u001b[38;5;129;01min\u001b[39;00m foraging_list:\n",
      "\u001b[0;31mNameError\u001b[0m: name 'dfTraj' is not defined"
     ]
    }
   ],
   "source": [
    "def time_to_forage_list(dfTraj, beeID, minTime, maxTime, distance_thresh):\n",
    "    interaction_matrix = interaction_events(dfTraj, beeID, minTime, maxTime, distance_thresh)\n",
    "    forage_list = []\n",
    "    for row in interaction_matrix:\n",
    "        forage_list.append('''time_to_forage(uid)''')\n",
    "    return forage_list\n",
    "\n",
    "foraging_list = time_to_forage_list(dfTraj, beeID, minTime, maxTime, distance_thresh)\n",
    "average_forage_time = 0\n",
    "for time in foraging_list:\n",
    "    average_forage_time += time\n",
    "average_forage_time /= length(foraging_list)"
   ]
  },
  {
   "cell_type": "code",
   "execution_count": 34,
   "id": "bd3cd388-375c-4693-8d39-1f58e93532cc",
   "metadata": {},
   "outputs": [
    {
     "ename": "SyntaxError",
     "evalue": "invalid syntax. Perhaps you forgot a comma? (2113258322.py, line 7)",
     "output_type": "error",
     "traceback": [
      "\u001b[0;36m  Cell \u001b[0;32mIn[34], line 7\u001b[0;36m\u001b[0m\n\u001b[0;31m    plt.xlabel('Time (frames)' + str(startframe) + ', ' str(endframe))\u001b[0m\n\u001b[0m               ^\u001b[0m\n\u001b[0;31mSyntaxError\u001b[0m\u001b[0;31m:\u001b[0m invalid syntax. Perhaps you forgot a comma?\n"
     ]
    }
   ],
   "source": [
    "# a plot to show an individual bee's interactions against the time they occur and to display total interactions over a time frame\n",
    "for beeID in [672,590,665,582]: #placeholders\n",
    "    interaction_num = number_of_interactions(dfTraj, beeID, minTime, maxTime, distance_thresh)\n",
    "    times = [startframe, endframe]\n",
    "    plt.plot(times[::(endframe - startframe)/10],interaction_num,label=beeID)\n",
    "plt.legend()\n",
    "plt.xlabel('Time (frames)' + str(startframe) + ', ' str(endframe))\n",
    "plt.ylabel('interactions per unit time' + 'total interactions =' + interaction_num);"
   ]
  },
  {
   "cell_type": "code",
   "execution_count": null,
   "id": "fd27862a-7679-4879-bb51-1422034d9e96",
   "metadata": {},
   "outputs": [],
   "source": []
  }
 ],
 "metadata": {
  "kernelspec": {
   "display_name": "Python 3 (ipykernel)",
   "language": "python",
   "name": "python3"
  },
  "language_info": {
   "codemirror_mode": {
    "name": "ipython",
    "version": 3
   },
   "file_extension": ".py",
   "mimetype": "text/x-python",
   "name": "python",
   "nbconvert_exporter": "python",
   "pygments_lexer": "ipython3",
   "version": "3.10.12"
  }
 },
 "nbformat": 4,
 "nbformat_minor": 5
}
