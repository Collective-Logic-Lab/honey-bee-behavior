{
 "cells": [
  {
   "cell_type": "markdown",
   "id": "abd07bba-a3f2-4ef8-a34e-d389ac2d8027",
   "metadata": {},
   "source": [
    "### Week of 9/13 - 9/20"
   ]
  },
  {
   "cell_type": "markdown",
   "id": "27aa19cc-0f95-442d-b3dd-bddea75206f2",
   "metadata": {},
   "source": [
    "pip install:\n",
    "scipy\n",
    "seaborn\n",
    "pandas\n",
    "tables"
   ]
  },
  {
   "cell_type": "markdown",
   "id": "438fd5a9-6339-405f-ae92-84b61f9ee7cc",
   "metadata": {},
   "source": [
    "Relevant function from comb-building, addition/modification for foraging below"
   ]
  },
  {
   "cell_type": "code",
   "execution_count": 41,
   "id": "e3874202-a25b-49ef-98e9-373e70f5dc9c",
   "metadata": {},
   "outputs": [],
   "source": [
    "def interaction_events(dfTraj,beeID,minTime,maxTime,distance_thresh=10):\n",
    "    \"\"\"\n",
    "    Returns dataFrame listing interaction events during which the bee with ID beeID is nearby another bee, within\n",
    "    the time window between minTime and maxTime.  Here \"nearby\" means within a distance threshold and on the same \n",
    "    side of the hive.\n",
    "\n",
    "    dfTraj                   : Trajectory dataframe containing framenumbers, (x,y) coordinates, and camera information.\n",
    "    minTime                  : Minimum time to scan for interaction events, as a datetime object\n",
    "    maxTime                  : Maximum time to scan for interaction events, as a datetime object\n",
    "    distance_thresh (10)     : Distance in pixels within which two bees must be imaged in the same frame to count as an interaction\n",
    "    \"\"\"\n",
    "    # select trajectory data from all bees from the desired time window\n",
    "    minFrame = datetime_to_framenum(minTime)\n",
    "    maxFrame = datetime_to_framenum(maxTime)\n",
    "    dfTraj_selected = dfTraj[(minFrame < dfTraj['framenum']) & (dfTraj['framenum'] < maxFrame)]\n",
    "\n",
    "    # select trajectory data from the selected bee\n",
    "    dfTraj_selected_bee = dfTraj_selected[dfTraj_selected['uid']==beeID]\n",
    "    \n",
    "    # loop over time looking for interaction events\n",
    "    interaction_data = []\n",
    "    for frame in dfTraj_selected_bee['framenum'].unique():\n",
    "        all_bee_frame_data = dfTraj_selected[dfTraj_selected['framenum']==frame]\n",
    "        \n",
    "        # get selected bee location for this time frame\n",
    "        selected_bee_frame_data = all_bee_frame_data[all_bee_frame_data['uid']==beeID]\n",
    "        beex = selected_bee_frame_data['x'].iloc[0],\n",
    "        beey = selected_bee_frame_data['y'].iloc[0]\n",
    "        beecamera = selected_bee_frame_data['camera'].iloc[0]\n",
    "\n",
    "        # find distances from all other bees seen by the same camera (same side of hive) at this time frame\n",
    "        all_bee_frame_data_same_side = all_bee_frame_data[all_bee_frame_data['camera']==beecamera]\n",
    "        distances = pd.Series(np.linalg.norm([all_bee_frame_data_same_side['x']-beex,\n",
    "                                              all_bee_frame_data_same_side['y']-beey],axis=0),\n",
    "                              index=all_bee_frame_data_same_side['uid'])\n",
    "\n",
    "        # append interaction data\n",
    "        for other_bee in distances[distances < distance_thresh].index:\n",
    "            if other_bee != beeID:\n",
    "                other_bee_frame_data = all_bee_frame_data_same_side[all_bee_frame_data_same_side['uid']==other_bee]\n",
    "                assert(len(other_bee_frame_data)==1) # should only have one timepoint for one bee in one frame\n",
    "                interaction_data.append([frame,\n",
    "                                         other_bee,\n",
    "                                         other_bee_frame_data['x'].iloc[0],\n",
    "                                         other_bee_frame_data['y'].iloc[0],\n",
    "                                         other_bee_frame_data['camera'].iloc[0],\n",
    "                                         distances[other_bee]])\n",
    "    \n",
    "    return pd.DataFrame(interaction_data,columns=['framenum','uid','x','y','camera','distance (pixels)'])"
   ]
  },
  {
   "cell_type": "code",
   "execution_count": null,
   "id": "6a618e75-1cd8-418b-89a4-4ce6087652bf",
   "metadata": {},
   "outputs": [],
   "source": [
    "def number_of_interactions(dfTraj, beeID, minTime, maxTime, distance_thresh):\n",
    "    "
   ]
  }
 ],
 "metadata": {
  "kernelspec": {
   "display_name": "Python 3 (ipykernel)",
   "language": "python",
   "name": "python3"
  },
  "language_info": {
   "codemirror_mode": {
    "name": "ipython",
    "version": 3
   },
   "file_extension": ".py",
   "mimetype": "text/x-python",
   "name": "python",
   "nbconvert_exporter": "python",
   "pygments_lexer": "ipython3",
   "version": "3.10.12"
  }
 },
 "nbformat": 4,
 "nbformat_minor": 5
}
