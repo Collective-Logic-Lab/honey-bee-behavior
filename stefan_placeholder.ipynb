{
 "cells": [
  {
   "cell_type": "markdown",
   "id": "abd07bba-a3f2-4ef8-a34e-d389ac2d8027",
   "metadata": {},
   "source": [
    "### Not currently in use"
   ]
  },
  {
   "cell_type": "markdown",
   "id": "27aa19cc-0f95-442d-b3dd-bddea75206f2",
   "metadata": {},
   "source": [
    "pip install:\n",
    "scipy\n",
    "seaborn\n",
    "pandas"
   ]
  },
  {
   "cell_type": "code",
   "execution_count": null,
   "id": "6a618e75-1cd8-418b-89a4-4ce6087652bf",
   "metadata": {},
   "outputs": [],
   "source": []
  }
 ],
 "metadata": {
  "kernelspec": {
   "display_name": "Python 3 (ipykernel)",
   "language": "python",
   "name": "python3"
  },
  "language_info": {
   "codemirror_mode": {
    "name": "ipython",
    "version": 3
   },
   "file_extension": ".py",
   "mimetype": "text/x-python",
   "name": "python",
   "nbconvert_exporter": "python",
   "pygments_lexer": "ipython3",
   "version": "3.10.12"
  }
 },
 "nbformat": 4,
 "nbformat_minor": 5
}
