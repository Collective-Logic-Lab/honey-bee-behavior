{
 "cells": [
  {
   "cell_type": "markdown",
   "id": "abd07bba-a3f2-4ef8-a34e-d389ac2d8027",
   "metadata": {},
   "source": [
    "### Not currently in use"
   ]
  },
  {
   "cell_type": "code",
   "execution_count": null,
   "id": "19d5d41d-104a-4bdd-80ed-fa2c03142b59",
   "metadata": {},
   "outputs": [],
   "source": []
  }
 ],
 "metadata": {
  "kernelspec": {
   "display_name": "Python 3 (ipykernel)",
   "language": "python",
   "name": "python3"
  },
  "language_info": {
   "codemirror_mode": {
    "name": "ipython",
    "version": 3
   },
   "file_extension": ".py",
   "mimetype": "text/x-python",
   "name": "python",
   "nbconvert_exporter": "python",
   "pygments_lexer": "ipython3",
   "version": "3.10.12"
  }
 },
 "nbformat": 4,
 "nbformat_minor": 5
}
