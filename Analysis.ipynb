{
 "cells": [
  {
   "cell_type": "code",
   "execution_count": 1,
   "id": "9889c6b9-21e5-412b-9a14-ae4b52292589",
   "metadata": {},
   "outputs": [
    {
     "data": {
      "text/html": [
       "<div>\n",
       "<style scoped>\n",
       "    .dataframe tbody tr th:only-of-type {\n",
       "        vertical-align: middle;\n",
       "    }\n",
       "\n",
       "    .dataframe tbody tr th {\n",
       "        vertical-align: top;\n",
       "    }\n",
       "\n",
       "    .dataframe thead th {\n",
       "        text-align: right;\n",
       "    }\n",
       "</style>\n",
       "<table border=\"1\" class=\"dataframe\">\n",
       "  <thead>\n",
       "    <tr style=\"text-align: right;\">\n",
       "      <th></th>\n",
       "      <th>daynum</th>\n",
       "      <th>uid</th>\n",
       "      <th>Age</th>\n",
       "      <th>year</th>\n",
       "      <th>month</th>\n",
       "      <th>day</th>\n",
       "      <th>hour</th>\n",
       "      <th>minute</th>\n",
       "      <th>second</th>\n",
       "      <th>recent_df_visits</th>\n",
       "      <th>status</th>\n",
       "    </tr>\n",
       "  </thead>\n",
       "  <tbody>\n",
       "    <tr>\n",
       "      <th>0</th>\n",
       "      <td>20</td>\n",
       "      <td>846</td>\n",
       "      <td>30.0</td>\n",
       "      <td>2018</td>\n",
       "      <td>8</td>\n",
       "      <td>5</td>\n",
       "      <td>2</td>\n",
       "      <td>48</td>\n",
       "      <td>34</td>\n",
       "      <td>0.0</td>\n",
       "      <td>no change</td>\n",
       "    </tr>\n",
       "    <tr>\n",
       "      <th>1</th>\n",
       "      <td>20</td>\n",
       "      <td>846</td>\n",
       "      <td>30.0</td>\n",
       "      <td>2018</td>\n",
       "      <td>8</td>\n",
       "      <td>5</td>\n",
       "      <td>2</td>\n",
       "      <td>48</td>\n",
       "      <td>36</td>\n",
       "      <td>0.0</td>\n",
       "      <td>no change</td>\n",
       "    </tr>\n",
       "    <tr>\n",
       "      <th>2</th>\n",
       "      <td>20</td>\n",
       "      <td>846</td>\n",
       "      <td>30.0</td>\n",
       "      <td>2018</td>\n",
       "      <td>8</td>\n",
       "      <td>5</td>\n",
       "      <td>2</td>\n",
       "      <td>48</td>\n",
       "      <td>37</td>\n",
       "      <td>0.0</td>\n",
       "      <td>no change</td>\n",
       "    </tr>\n",
       "    <tr>\n",
       "      <th>3</th>\n",
       "      <td>20</td>\n",
       "      <td>846</td>\n",
       "      <td>30.0</td>\n",
       "      <td>2018</td>\n",
       "      <td>8</td>\n",
       "      <td>5</td>\n",
       "      <td>2</td>\n",
       "      <td>48</td>\n",
       "      <td>43</td>\n",
       "      <td>0.0</td>\n",
       "      <td>no change</td>\n",
       "    </tr>\n",
       "    <tr>\n",
       "      <th>4</th>\n",
       "      <td>20</td>\n",
       "      <td>846</td>\n",
       "      <td>30.0</td>\n",
       "      <td>2018</td>\n",
       "      <td>8</td>\n",
       "      <td>5</td>\n",
       "      <td>2</td>\n",
       "      <td>48</td>\n",
       "      <td>44</td>\n",
       "      <td>0.0</td>\n",
       "      <td>no change</td>\n",
       "    </tr>\n",
       "    <tr>\n",
       "      <th>...</th>\n",
       "      <td>...</td>\n",
       "      <td>...</td>\n",
       "      <td>...</td>\n",
       "      <td>...</td>\n",
       "      <td>...</td>\n",
       "      <td>...</td>\n",
       "      <td>...</td>\n",
       "      <td>...</td>\n",
       "      <td>...</td>\n",
       "      <td>...</td>\n",
       "      <td>...</td>\n",
       "    </tr>\n",
       "    <tr>\n",
       "      <th>3765337</th>\n",
       "      <td>20</td>\n",
       "      <td>3103</td>\n",
       "      <td>0.0</td>\n",
       "      <td>2018</td>\n",
       "      <td>8</td>\n",
       "      <td>5</td>\n",
       "      <td>22</td>\n",
       "      <td>54</td>\n",
       "      <td>9</td>\n",
       "      <td>0.0</td>\n",
       "      <td>no change</td>\n",
       "    </tr>\n",
       "    <tr>\n",
       "      <th>3765338</th>\n",
       "      <td>20</td>\n",
       "      <td>3103</td>\n",
       "      <td>0.0</td>\n",
       "      <td>2018</td>\n",
       "      <td>8</td>\n",
       "      <td>5</td>\n",
       "      <td>22</td>\n",
       "      <td>54</td>\n",
       "      <td>10</td>\n",
       "      <td>0.0</td>\n",
       "      <td>no change</td>\n",
       "    </tr>\n",
       "    <tr>\n",
       "      <th>3765339</th>\n",
       "      <td>20</td>\n",
       "      <td>3103</td>\n",
       "      <td>0.0</td>\n",
       "      <td>2018</td>\n",
       "      <td>8</td>\n",
       "      <td>5</td>\n",
       "      <td>22</td>\n",
       "      <td>54</td>\n",
       "      <td>12</td>\n",
       "      <td>0.0</td>\n",
       "      <td>no change</td>\n",
       "    </tr>\n",
       "    <tr>\n",
       "      <th>3765340</th>\n",
       "      <td>20</td>\n",
       "      <td>3103</td>\n",
       "      <td>0.0</td>\n",
       "      <td>2018</td>\n",
       "      <td>8</td>\n",
       "      <td>5</td>\n",
       "      <td>22</td>\n",
       "      <td>54</td>\n",
       "      <td>14</td>\n",
       "      <td>0.0</td>\n",
       "      <td>no change</td>\n",
       "    </tr>\n",
       "    <tr>\n",
       "      <th>3765341</th>\n",
       "      <td>20</td>\n",
       "      <td>3103</td>\n",
       "      <td>0.0</td>\n",
       "      <td>2018</td>\n",
       "      <td>8</td>\n",
       "      <td>5</td>\n",
       "      <td>22</td>\n",
       "      <td>54</td>\n",
       "      <td>15</td>\n",
       "      <td>1.0</td>\n",
       "      <td>no change</td>\n",
       "    </tr>\n",
       "  </tbody>\n",
       "</table>\n",
       "<p>3765342 rows × 11 columns</p>\n",
       "</div>"
      ],
      "text/plain": [
       "         daynum   uid   Age  year  month  day  hour  minute  second  \\\n",
       "0            20   846  30.0  2018      8    5     2      48      34   \n",
       "1            20   846  30.0  2018      8    5     2      48      36   \n",
       "2            20   846  30.0  2018      8    5     2      48      37   \n",
       "3            20   846  30.0  2018      8    5     2      48      43   \n",
       "4            20   846  30.0  2018      8    5     2      48      44   \n",
       "...         ...   ...   ...   ...    ...  ...   ...     ...     ...   \n",
       "3765337      20  3103   0.0  2018      8    5    22      54       9   \n",
       "3765338      20  3103   0.0  2018      8    5    22      54      10   \n",
       "3765339      20  3103   0.0  2018      8    5    22      54      12   \n",
       "3765340      20  3103   0.0  2018      8    5    22      54      14   \n",
       "3765341      20  3103   0.0  2018      8    5    22      54      15   \n",
       "\n",
       "         recent_df_visits     status  \n",
       "0                     0.0  no change  \n",
       "1                     0.0  no change  \n",
       "2                     0.0  no change  \n",
       "3                     0.0  no change  \n",
       "4                     0.0  no change  \n",
       "...                   ...        ...  \n",
       "3765337               0.0  no change  \n",
       "3765338               0.0  no change  \n",
       "3765339               0.0  no change  \n",
       "3765340               0.0  no change  \n",
       "3765341               1.0  no change  \n",
       "\n",
       "[3765342 rows x 11 columns]"
      ]
     },
     "execution_count": 1,
     "metadata": {},
     "output_type": "execute_result"
    }
   ],
   "source": [
    "# Import libraries + data\n",
    "import pandas as pd\n",
    "import numpy as np\n",
    "import datetime as dt\n",
    "from sklearn.utils import resample\n",
    "from bees_lifetimetracking_2018data import definitions2024 as bn\n",
    "allEventsFewer = pd.read_csv('allEventsFewer.csv')\n",
    "ages = pd.read_csv('ages.csv')\n",
    "\n",
    "# Tidying\n",
    "allEventsFewer = allEventsFewer.drop(columns=['Unnamed: 0']).sort_values(by=['uid', 'framenum'])\n",
    "ages = ages.drop(columns=['Unnamed: 0'])\n",
    "\n",
    "# Type matching for merge\n",
    "ages['Bee unique ID'] = ages['Bee unique ID'].apply(\n",
    "    lambda x: str(int(float(x))) if isinstance(x, (int, float)) else str(x)\n",
    ")\n",
    "allEventsFewer['uid'] = allEventsFewer['uid'].astype(str)\n",
    "allEventsFewer['uid'] = allEventsFewer['uid'].astype(int)\n",
    "ages['Bee unique ID'] = ages['Bee unique ID'].astype(int)\n",
    "\n",
    "# Adding recent_df_visits\n",
    "allEventsFewer = bn.numOfDanceFloorVisits(allEventsFewer, allEventsFewer, 1800)\n",
    "allEventsFewer\n",
    "\n",
    "# Whittle down dfs\n",
    "allEventsMerge = allEventsFewer[['daynum', 'uid', 'framenum', 'datetime', 'running_total_df_visits', 'recent_df_visits', 'status']]\n",
    "agesMerge = ages.drop_duplicates()\n",
    "\n",
    "# Merge\n",
    "result = allEventsFewer.merge(agesMerge, left_on='uid', right_on='Bee unique ID', how='left')\n",
    "result = result.drop(columns=['Bee unique ID', 'running_total_df_visits'])\n",
    "\n",
    "# Splitting datetime\n",
    "result['datetime'] = pd.to_datetime(result['datetime'])\n",
    "result['year'] = result['datetime'].dt.year\n",
    "result['month'] = result['datetime'].dt.month\n",
    "result['day'] = result['datetime'].dt.day\n",
    "result['hour'] = result['datetime'].dt.hour\n",
    "result['minute'] = result['datetime'].dt.minute\n",
    "result['second'] = result['datetime'].dt.second\n",
    "\n",
    "# DF ready for analysis!\n",
    "result = result.sort_values(by=['uid', 'datetime'])\n",
    "result = result[['uid', 'Age', 'year', 'month', 'day', 'hour', 'minute', 'second', 'recent_df_visits', 'status']]\n",
    "result"
   ]
  },
  {
   "cell_type": "markdown",
   "id": "ca4a667a-e12f-4398-bc59-d02b0224169b",
   "metadata": {},
   "source": [
    "## Data Prep"
   ]
  },
  {
   "cell_type": "code",
   "execution_count": 2,
   "id": "6089d44e-ba65-4cc9-804a-7862ef6e9ef5",
   "metadata": {},
   "outputs": [
    {
     "data": {
      "text/plain": [
       "status\n",
       "no change    3764741\n",
       "leave            601\n",
       "Name: count, dtype: int64"
      ]
     },
     "execution_count": 2,
     "metadata": {},
     "output_type": "execute_result"
    }
   ],
   "source": [
    "result.status.value_counts()"
   ]
  },
  {
   "cell_type": "code",
   "execution_count": 3,
   "id": "18ca1aba-0fe0-4502-a86a-572ee2ca5698",
   "metadata": {},
   "outputs": [
    {
     "data": {
      "text/plain": [
       "status\n",
       "leave        601\n",
       "no change    601\n",
       "Name: count, dtype: int64"
      ]
     },
     "execution_count": 3,
     "metadata": {},
     "output_type": "execute_result"
    }
   ],
   "source": [
    "# Balancing data\n",
    "df = pd.concat([\n",
    "    resample(result[result['status'] == 'no change'], n_samples=601, random_state=42),\n",
    "    result[result['status'] == 'leave']\n",
    "]).sample(frac=1, random_state=42).reset_index(drop=True)\n",
    "df.status.value_counts()"
   ]
  },
  {
   "cell_type": "code",
   "execution_count": 4,
   "id": "d793c1db-ea34-45cf-b7e8-d02ca9032067",
   "metadata": {},
   "outputs": [],
   "source": [
    "# quick switch from no change and leave to 0 and 1\n",
    "df['status'] = df['status'].map({'no change': 0, 'leave': 1})\n",
    "\n",
    "# Split Train and Test Data\n",
    "from sklearn.model_selection import train_test_split\n",
    "\n",
    "y = df['status']\n",
    "X = df[['Age','year', 'month', 'day', 'hour', 'minute', 'second', 'recent_df_visits']]\n",
    "\n",
    "X_train, X_test, y_train, y_test = train_test_split(X,y, test_size=0.33, random_state=25)"
   ]
  },
  {
   "cell_type": "code",
   "execution_count": 5,
   "id": "34203acb-12c4-4331-a097-e609f717cfb8",
   "metadata": {},
   "outputs": [],
   "source": [
    "# more libraries\n",
    "import seaborn as sns\n",
    "from sklearn.metrics import confusion_matrix,precision_score,recall_score,f1_score,accuracy_score, ConfusionMatrixDisplay\n",
    "from sklearn.model_selection import train_test_split, cross_val_score, cross_val_predict\n",
    "import matplotlib.pyplot as plt\n",
    "%matplotlib inline\n"
   ]
  },
  {
   "cell_type": "code",
   "execution_count": 6,
   "id": "bc923774-a678-4e18-9973-7f7546bd8605",
   "metadata": {},
   "outputs": [],
   "source": [
    "# snatched straight from Padma <3\n",
    "def model_performance(model,x_train,x_test, y_train,y_test):\n",
    "    print(f\"{model} Performance:\\n\")\n",
    "    \n",
    "    y_pred = model.predict(x_test)\n",
    "    cm = confusion_matrix(y_test, y_pred, labels=model.classes_)\n",
    "    sns.set(rc = {'figure.figsize':(6,4)})\n",
    "    sns.heatmap(cm, cmap = 'Blues', annot = True, fmt = 'd', linewidths = 5, cbar = False, annot_kws = {'fontsize': 15}, \n",
    "    yticklabels = ['No Forage', 'Forage'], xticklabels = ['Predicted no forage', 'Predicted forage'])\n",
    "    plt.show()\n",
    "   \n",
    "    \n",
    "    precision = precision_score(y_test,y_pred)\n",
    "    recall = recall_score(y_test,y_pred)\n",
    "    accuracy = accuracy_score(y_test,y_pred)\n",
    "    f1 = f1_score(y_test,y_pred)\n",
    "\n",
    "    cross_val_score_insample = cross_val_score(model,x_train,y_train,cv=5,scoring='accuracy').mean()\n",
    "    cross_val_score_outsample = cross_val_score(model,x_test,y_test,cv=5,scoring='accuracy').mean()\n",
    "    \n",
    "    print('Precision Score:',precision)\n",
    "    print(\"Recall Score:\",recall)\n",
    "    print(\"Accuracy Score:\",accuracy)\n",
    "    print('F1 Score:',f1)\n",
    "    print(\"Cross Val Score Insample\",cross_val_score_insample)\n",
    "    print(\"Cross Val Score Outsample\",cross_val_score_outsample)\n",
    "    \n",
    "    return model,precision,recall,accuracy,cross_val_score_insample,cross_val_score_outsample"
   ]
  },
  {
   "cell_type": "markdown",
   "id": "52b2d17a-0d98-49a8-9855-7e6134b74e36",
   "metadata": {},
   "source": [
    "## Naive Bayes"
   ]
  },
  {
   "cell_type": "code",
   "execution_count": 7,
   "id": "af1bc787-3c47-4c13-905c-ed0d5d372db3",
   "metadata": {},
   "outputs": [
    {
     "name": "stdout",
     "output_type": "stream",
     "text": [
      "GaussianNB() Performance:\n",
      "\n"
     ]
    },
    {
     "data": {
      "image/png": "[encoded data removed]",
      "text/plain": [
       "<Figure size 600x400 with 1 Axes>"
      ]
     },
     "metadata": {},
     "output_type": "display_data"
    },
    {
     "name": "stdout",
     "output_type": "stream",
     "text": [
      "Precision Score: 0.7368421052631579\n",
      "Recall Score: 0.3465346534653465\n",
      "Accuracy Score: 0.6045340050377834\n",
      "F1 Score: 0.4713804713804714\n",
      "Cross Val Score Insample 0.6496894409937888\n",
      "Cross Val Score Outsample 0.6147784810126582\n"
     ]
    }
   ],
   "source": [
    "from sklearn.naive_bayes import GaussianNB\n",
    "gnb = GaussianNB()\n",
    "y_pred = gnb.fit(X_train, y_train).predict(X_test)\n",
    "\n",
    "performance_nb = model_performance(gnb, X_train, X_test, y_train, y_test)"
   ]
  },
  {
   "cell_type": "markdown",
   "id": "21ae2e98-1588-4589-b8f7-ccd4bde0b5c9",
   "metadata": {},
   "source": [
    "## KNN"
   ]
  },
  {
   "cell_type": "code",
   "execution_count": 8,
   "id": "62ebd34f-8fae-43ea-9979-810f06b52b4c",
   "metadata": {},
   "outputs": [
    {
     "name": "stdout",
     "output_type": "stream",
     "text": [
      "Fitting 5 folds for each of 18 candidates, totalling 90 fits\n",
      "\t Ideal K-Val: 6\n",
      "\t Accuracy of Tuned Training Data: 63.73%\n"
     ]
    }
   ],
   "source": [
    "from sklearn.model_selection import GridSearchCV\n",
    "from sklearn.neighbors import KNeighborsClassifier\n",
    "\n",
    "knn_temp_model = KNeighborsClassifier()\n",
    "param_grid={'weights' : ['uniform','distance'],'n_neighbors' : (np.arange(9)+2)}\n",
    "knn_grid = GridSearchCV(knn_temp_model,param_grid,cv=5,scoring='accuracy',verbose=1)\n",
    "grid_results = knn_grid.fit(X_train,y_train)\n",
    "best_k = knn_grid.best_params_['n_neighbors']\n",
    "print(\"\\t Ideal K-Val: {}\".format(best_k))\n",
    "print(\"\\t Accuracy of Tuned Training Data: {:.2f}%\".format(grid_results.best_score_ * 100))"
   ]
  },
  {
   "cell_type": "code",
   "execution_count": 9,
   "id": "b47a69dc-a9fd-4545-ac68-5aa5dc5c01a4",
   "metadata": {},
   "outputs": [
    {
     "name": "stdout",
     "output_type": "stream",
     "text": [
      "KNeighborsClassifier(n_neighbors=6) Performance:\n",
      "\n"
     ]
    },
    {
     "data": {
      "image/png": "[encoded data removed]",
      "text/plain": [
       "<Figure size 600x400 with 1 Axes>"
      ]
     },
     "metadata": {},
     "output_type": "display_data"
    },
    {
     "name": "stdout",
     "output_type": "stream",
     "text": [
      "Precision Score: 0.6223776223776224\n",
      "Recall Score: 0.4405940594059406\n",
      "Accuracy Score: 0.5793450881612091\n",
      "F1 Score: 0.5159420289855072\n",
      "Cross Val Score Insample 0.6186335403726708\n",
      "Cross Val Score Outsample 0.5796202531645569\n"
     ]
    }
   ],
   "source": [
    "knn_model = KNeighborsClassifier(n_neighbors=best_k)\n",
    "knn_model.fit(X_train, y_train)\n",
    "performance_knn = model_performance(knn_model,X_train, X_test, y_train, y_test)"
   ]
  },
  {
   "cell_type": "markdown",
   "id": "a9ffb25c-88ea-4165-bfb5-5942e6661db4",
   "metadata": {},
   "source": [
    "## Logistic Regression"
   ]
  },
  {
   "cell_type": "code",
   "execution_count": 10,
   "id": "a21add0a-86af-4731-81b9-7eab432d957a",
   "metadata": {},
   "outputs": [
    {
     "name": "stdout",
     "output_type": "stream",
     "text": [
      "Number of mislabeled points out of a total 397 points : 135\n",
      "LogisticRegression() Performance:\n",
      "\n"
     ]
    },
    {
     "data": {
      "image/png": "[encoded data removed]",
      "text/plain": [
       "<Figure size 600x400 with 1 Axes>"
      ]
     },
     "metadata": {},
     "output_type": "display_data"
    },
    {
     "name": "stdout",
     "output_type": "stream",
     "text": [
      "Precision Score: 0.695906432748538\n",
      "Recall Score: 0.5891089108910891\n",
      "Accuracy Score: 0.6599496221662469\n",
      "F1 Score: 0.6380697050938338\n",
      "Cross Val Score Insample 0.7217391304347827\n",
      "Cross Val Score Outsample 0.6449367088607596\n"
     ]
    }
   ],
   "source": [
    "from sklearn.linear_model import LogisticRegression\n",
    "\n",
    "lr = LogisticRegression(max_iter=100)\n",
    "y_pred = lr.fit(X_train, y_train).predict(X_test)\n",
    "print(\"Number of mislabeled points out of a total %d points : %d\" % (X_test.shape[0], (y_test != y_pred).sum()))\n",
    "performance_lr = model_performance(lr,X_train, X_test, y_train, y_test)"
   ]
  },
  {
   "cell_type": "markdown",
   "id": "6f040107-f64b-4858-bcc3-10f364981133",
   "metadata": {},
   "source": [
    "## Random Forest"
   ]
  },
  {
   "cell_type": "code",
   "execution_count": 11,
   "id": "bff2cb9a-f2ce-410f-9506-46c2fb85ec9b",
   "metadata": {},
   "outputs": [
    {
     "name": "stdout",
     "output_type": "stream",
     "text": [
      "Number of mislabeled points out of a total 397 points : 115\n",
      "RandomForestClassifier() Performance:\n",
      "\n"
     ]
    },
    {
     "data": {
      "image/png": "[encoded data removed]",
      "text/plain": [
       "<Figure size 600x400 with 1 Axes>"
      ]
     },
     "metadata": {},
     "output_type": "display_data"
    },
    {
     "name": "stdout",
     "output_type": "stream",
     "text": [
      "Precision Score: 0.7277486910994765\n",
      "Recall Score: 0.6881188118811881\n",
      "Accuracy Score: 0.7103274559193955\n",
      "F1 Score: 0.7073791348600509\n",
      "Cross Val Score Insample 0.7192546583850932\n",
      "Cross Val Score Outsample 0.7104113924050633\n"
     ]
    }
   ],
   "source": [
    "from sklearn.ensemble import RandomForestClassifier\n",
    "\n",
    "rfc = RandomForestClassifier()\n",
    "y_pred = rfc.fit(X_train, y_train).predict(X_test)\n",
    "print(\"Number of mislabeled points out of a total %d points : %d\" % (X_test.shape[0], (y_test != y_pred).sum()))\n",
    "performance_rfc = model_performance(rfc,X_train, X_test, y_train, y_test)"
   ]
  },
  {
   "cell_type": "markdown",
   "id": "3a664b5f-8c4d-4865-ac70-693a3ead9cfc",
   "metadata": {},
   "source": [
    "## SVM"
   ]
  },
  {
   "cell_type": "code",
   "execution_count": 12,
   "id": "f907a13a-c6f7-4b09-a15b-430ec8da4404",
   "metadata": {},
   "outputs": [
    {
     "name": "stdout",
     "output_type": "stream",
     "text": [
      "Number of mislabeled points out of a total 397 points : 138\n",
      "SVC(kernel='linear') Performance:\n",
      "\n"
     ]
    },
    {
     "data": {
      "image/png": "[encoded data removed]",
      "text/plain": [
       "<Figure size 600x400 with 1 Axes>"
      ]
     },
     "metadata": {},
     "output_type": "display_data"
    },
    {
     "name": "stdout",
     "output_type": "stream",
     "text": [
      "Precision Score: 0.7105263157894737\n",
      "Recall Score: 0.5346534653465347\n",
      "Accuracy Score: 0.6523929471032746\n",
      "F1 Score: 0.6101694915254238\n",
      "Cross Val Score Insample 0.724223602484472\n",
      "Cross Val Score Outsample 0.6399367088607596\n"
     ]
    }
   ],
   "source": [
    "from sklearn.svm import SVC\n",
    "\n",
    "svm = SVC(kernel = 'linear')\n",
    "y_pred = svm.fit(X_train, y_train).predict(X_test)\n",
    "print(\"Number of mislabeled points out of a total %d points : %d\" % (X_test.shape[0], (y_test != y_pred).sum()))\n",
    "performance_svm = model_performance(svm,X_train, X_test, y_train, y_test)"
   ]
  },
  {
   "cell_type": "markdown",
   "id": "375328aa-1a15-4b94-a42e-69b8849ca62d",
   "metadata": {},
   "source": [
    "- hour minute second combo / day and month combo\n",
    "- include rest of days\n",
    "- analysis for factors individually + weights"
   ]
  }
 ],
 "metadata": {
  "kernelspec": {
   "display_name": "Python 3 (ipykernel)",
   "language": "python",
   "name": "python3"
  },
  "language_info": {
   "codemirror_mode": {
    "name": "ipython",
    "version": 3
   },
   "file_extension": ".py",
   "mimetype": "text/x-python",
   "name": "python",
   "nbconvert_exporter": "python",
   "pygments_lexer": "ipython3",
   "version": "3.10.11"
  }
 },
 "nbformat": 4,
 "nbformat_minor": 5
}
