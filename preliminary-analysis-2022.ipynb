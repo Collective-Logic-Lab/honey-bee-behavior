{
 "cells": [
  {
   "cell_type": "code",
   "execution_count": 1,
   "id": "db7efaee",
   "metadata": {},
   "outputs": [],
   "source": [
    "# preliminary-analysis-2022.ipynb\n",
    "#\n",
    "# Bryan Daniels\n",
    "# 2022/4/22\n",
    "#\n",
    "# Load newer Zenodo data (https://doi.org/10.5281/zenodo.6045859) to begin\n",
    "# to see how we might infer predictors of foraging and comb-building.\n",
    "#\n",
    "# Using example at:\n",
    "# https://github.com/jacobdavidson/bees_lifetimetracking_2018data/blob/main/Data%20usage%20example.ipynb\n",
    "#"
   ]
  },
  {
   "cell_type": "code",
   "execution_count": 17,
   "id": "457eb197",
   "metadata": {},
   "outputs": [],
   "source": [
    "import pandas as pd\n",
    "import numpy as np\n",
    "import matplotlib.pyplot as plt"
   ]
  },
  {
   "cell_type": "code",
   "execution_count": 120,
   "id": "5c480ffe",
   "metadata": {},
   "outputs": [],
   "source": [
    "daynum = 42 #52\n",
    "\n",
    "if daynum > 50:\n",
    "    datadir = '../Data/220422/zenodo/beetrajectories_days_050_to_085/'\n",
    "else:\n",
    "    datadir = '../Data/220422/zenodo/beetrajectories_days_000_to_049/'\n",
    "\n",
    "df = pd.read_hdf('{}beetrajectories_{:0>3}.hdf'.format(datadir,daynum))"
   ]
  },
  {
   "cell_type": "code",
   "execution_count": 9,
   "id": "fc81f499",
   "metadata": {},
   "outputs": [
    {
     "data": {
      "text/plain": [
       "14866599"
      ]
     },
     "execution_count": 9,
     "metadata": {},
     "output_type": "execute_result"
    }
   ],
   "source": [
    "len(df)"
   ]
  },
  {
   "cell_type": "code",
   "execution_count": 68,
   "id": "5364ebb0",
   "metadata": {},
   "outputs": [
    {
     "data": {
      "text/html": [
       "<div>\n",
       "<style scoped>\n",
       "    .dataframe tbody tr th:only-of-type {\n",
       "        vertical-align: middle;\n",
       "    }\n",
       "\n",
       "    .dataframe tbody tr th {\n",
       "        vertical-align: top;\n",
       "    }\n",
       "\n",
       "    .dataframe thead th {\n",
       "        text-align: right;\n",
       "    }\n",
       "</style>\n",
       "<table border=\"1\" class=\"dataframe\">\n",
       "  <thead>\n",
       "    <tr style=\"text-align: right;\">\n",
       "      <th></th>\n",
       "      <th>daynum</th>\n",
       "      <th>framenum</th>\n",
       "      <th>uid</th>\n",
       "      <th>x</th>\n",
       "      <th>y</th>\n",
       "      <th>camera</th>\n",
       "      <th>theta</th>\n",
       "    </tr>\n",
       "  </thead>\n",
       "  <tbody>\n",
       "    <tr>\n",
       "      <th>0</th>\n",
       "      <td>52</td>\n",
       "      <td>9197</td>\n",
       "      <td>1697</td>\n",
       "      <td>1175</td>\n",
       "      <td>4839</td>\n",
       "      <td>0</td>\n",
       "      <td>3.021990</td>\n",
       "    </tr>\n",
       "    <tr>\n",
       "      <th>1</th>\n",
       "      <td>52</td>\n",
       "      <td>9198</td>\n",
       "      <td>1697</td>\n",
       "      <td>1185</td>\n",
       "      <td>4863</td>\n",
       "      <td>0</td>\n",
       "      <td>1.907100</td>\n",
       "    </tr>\n",
       "    <tr>\n",
       "      <th>2</th>\n",
       "      <td>52</td>\n",
       "      <td>9199</td>\n",
       "      <td>1697</td>\n",
       "      <td>1201</td>\n",
       "      <td>4871</td>\n",
       "      <td>0</td>\n",
       "      <td>1.160400</td>\n",
       "    </tr>\n",
       "    <tr>\n",
       "      <th>3</th>\n",
       "      <td>52</td>\n",
       "      <td>9200</td>\n",
       "      <td>1697</td>\n",
       "      <td>1209</td>\n",
       "      <td>4872</td>\n",
       "      <td>0</td>\n",
       "      <td>0.950683</td>\n",
       "    </tr>\n",
       "    <tr>\n",
       "      <th>4</th>\n",
       "      <td>52</td>\n",
       "      <td>9201</td>\n",
       "      <td>1697</td>\n",
       "      <td>1201</td>\n",
       "      <td>4863</td>\n",
       "      <td>0</td>\n",
       "      <td>0.872222</td>\n",
       "    </tr>\n",
       "    <tr>\n",
       "      <th>...</th>\n",
       "      <td>...</td>\n",
       "      <td>...</td>\n",
       "      <td>...</td>\n",
       "      <td>...</td>\n",
       "      <td>...</td>\n",
       "      <td>...</td>\n",
       "      <td>...</td>\n",
       "    </tr>\n",
       "    <tr>\n",
       "      <th>14866594</th>\n",
       "      <td>52</td>\n",
       "      <td>256861</td>\n",
       "      <td>5342</td>\n",
       "      <td>1830</td>\n",
       "      <td>1417</td>\n",
       "      <td>0</td>\n",
       "      <td>-0.278046</td>\n",
       "    </tr>\n",
       "    <tr>\n",
       "      <th>14866595</th>\n",
       "      <td>52</td>\n",
       "      <td>256862</td>\n",
       "      <td>5342</td>\n",
       "      <td>1838</td>\n",
       "      <td>1417</td>\n",
       "      <td>0</td>\n",
       "      <td>-0.249975</td>\n",
       "    </tr>\n",
       "    <tr>\n",
       "      <th>14866596</th>\n",
       "      <td>52</td>\n",
       "      <td>257259</td>\n",
       "      <td>5342</td>\n",
       "      <td>1855</td>\n",
       "      <td>1417</td>\n",
       "      <td>0</td>\n",
       "      <td>-0.544705</td>\n",
       "    </tr>\n",
       "    <tr>\n",
       "      <th>14866597</th>\n",
       "      <td>52</td>\n",
       "      <td>257260</td>\n",
       "      <td>5342</td>\n",
       "      <td>1838</td>\n",
       "      <td>1433</td>\n",
       "      <td>0</td>\n",
       "      <td>-0.311755</td>\n",
       "    </tr>\n",
       "    <tr>\n",
       "      <th>14866598</th>\n",
       "      <td>52</td>\n",
       "      <td>257261</td>\n",
       "      <td>5342</td>\n",
       "      <td>1846</td>\n",
       "      <td>1425</td>\n",
       "      <td>0</td>\n",
       "      <td>-0.100389</td>\n",
       "    </tr>\n",
       "  </tbody>\n",
       "</table>\n",
       "<p>14866599 rows × 7 columns</p>\n",
       "</div>"
      ],
      "text/plain": [
       "          daynum  framenum   uid     x     y  camera     theta\n",
       "0             52      9197  1697  1175  4839       0  3.021990\n",
       "1             52      9198  1697  1185  4863       0  1.907100\n",
       "2             52      9199  1697  1201  4871       0  1.160400\n",
       "3             52      9200  1697  1209  4872       0  0.950683\n",
       "4             52      9201  1697  1201  4863       0  0.872222\n",
       "...          ...       ...   ...   ...   ...     ...       ...\n",
       "14866594      52    256861  5342  1830  1417       0 -0.278046\n",
       "14866595      52    256862  5342  1838  1417       0 -0.249975\n",
       "14866596      52    257259  5342  1855  1417       0 -0.544705\n",
       "14866597      52    257260  5342  1838  1433       0 -0.311755\n",
       "14866598      52    257261  5342  1846  1425       0 -0.100389\n",
       "\n",
       "[14866599 rows x 7 columns]"
      ]
     },
     "execution_count": 68,
     "metadata": {},
     "output_type": "execute_result"
    }
   ],
   "source": [
    "df"
   ]
  },
  {
   "cell_type": "code",
   "execution_count": 75,
   "id": "8f647a92",
   "metadata": {},
   "outputs": [
    {
     "data": {
      "text/plain": [
       "Text(0, 0.5, 'Number of bees')"
      ]
     },
     "execution_count": 75,
     "metadata": {},
     "output_type": "execute_result"
    },
    {
     "data": {
      "image/png": "[encoded data removed]",
      "text/plain": [
       "<Figure size 432x288 with 1 Axes>"
      ]
     },
     "metadata": {
      "needs_background": "light"
     },
     "output_type": "display_data"
    }
   ],
   "source": [
    "# what fraction of time is each bee visible?\n",
    "# (note that bees are also going in and out of the hive)\n",
    "plt.hist(df.groupby('uid').count()['framenum']/len(df.framenum.unique()),bins=100);\n",
    "plt.xlabel('Fraction of time bee is visible')\n",
    "plt.ylabel('Number of bees')"
   ]
  },
  {
   "cell_type": "code",
   "execution_count": 77,
   "id": "9f4dca3c",
   "metadata": {},
   "outputs": [
    {
     "name": "stdout",
     "output_type": "stream",
     "text": [
      "mean number of bees identified per framenum = 57.35570601851852\n",
      "total number of unique bees = 1008\n"
     ]
    }
   ],
   "source": [
    "print(\"mean number of bees identified per framenum = {}\".format(len(df)/len(df.framenum.unique())))\n",
    "print(\"total number of unique bees = {}\".format(len(df.uid.unique())))"
   ]
  },
  {
   "cell_type": "code",
   "execution_count": 61,
   "id": "1ddc5b55",
   "metadata": {},
   "outputs": [
    {
     "data": {
      "text/plain": [
       "<AxesSubplot:xlabel='framenum', ylabel='camera'>"
      ]
     },
     "execution_count": 61,
     "metadata": {},
     "output_type": "execute_result"
    },
    {
     "data": {
      "image/png": "[encoded data removed]",
      "text/plain": [
       "<Figure size 432x288 with 2 Axes>"
      ]
     },
     "metadata": {
      "needs_background": "light"
     },
     "output_type": "display_data"
    },
    {
     "data": {
      "text/plain": [
       "<Figure size 432x288 with 0 Axes>"
      ]
     },
     "metadata": {},
     "output_type": "display_data"
    },
    {
     "data": {
      "image/png": "[encoded data removed]",
      "text/plain": [
       "<Figure size 432x288 with 1 Axes>"
      ]
     },
     "metadata": {
      "needs_background": "light"
     },
     "output_type": "display_data"
    }
   ],
   "source": [
    "# select a single bee\n",
    "bee_idx = 3\n",
    "day_uids = np.unique(df['uid'])\n",
    "bee_uid = day_uids[bee_idx]\n",
    "dfsel = df[df['uid']==bee_uid]\n",
    "\n",
    "# plot locations\n",
    "# (note that this does not distinguish between the two cameras --- front and back of frame)\n",
    "dfsel.plot.scatter('x','y',c='framenum',cmap=plt.colormaps['copper'])\n",
    "plt.axis('equal')\n",
    "plt.xlabel('x')\n",
    "plt.title('bee {}'.format(bee_uid))\n",
    "\n",
    "# plot times\n",
    "plt.figure()\n",
    "#plt.plot(np.arange(len(dfsel)),dfsel['framenum'],',')\n",
    "dfsel.plot.scatter('framenum','camera',s=1)"
   ]
  },
  {
   "cell_type": "code",
   "execution_count": null,
   "id": "9eae1c49",
   "metadata": {},
   "outputs": [],
   "source": [
    "plt.plot(np.arange(len(dfsel)),dfsel['framenum'],',')"
   ]
  },
  {
   "cell_type": "markdown",
   "id": "2294f853",
   "metadata": {},
   "source": [
    "# Can we select bees initiating foraging and ask what they were doing differently leading up to that decision?"
   ]
  },
  {
   "cell_type": "code",
   "execution_count": 78,
   "id": "f58ca6b4",
   "metadata": {},
   "outputs": [],
   "source": [
    "# Questions for Michael:\n",
    "#     Do we have access to data for comb-building?\n",
    "#     To what extent can we measure or infer interactions or proximity between specific bees?"
   ]
  },
  {
   "cell_type": "code",
   "execution_count": 80,
   "id": "9135c9e5",
   "metadata": {},
   "outputs": [],
   "source": [
    "# Defining foraging bees:\n",
    "#          -- Looks like their definition of 'leaving the nest' is given in datafunctions.get_inout_estimates\n",
    "#          -- In my previous preliminary analysis, I was using 'Num. outside trips', which is defined in \n",
    "#             'Data processing - 1 - metrics and dataframes.ipynb' as the number of times the bee's status \n",
    "#             changes from in-hive to out-of-hive (as measured by the `all_inhive` output of get_inout_estimates)\n",
    "#          -- Note: get_inout_estimates takes as input a `dfday` dataframe, which summarizes data from a \n",
    "#             given day (e.g. in 5-minute chunks, if I remember right).  So we would have to rewrite if we want\n",
    "#             to use a finer time resolution\n",
    "#          -- get_inout_estimates uses 'Exit distance (median)', which is calculated using \n",
    "#             dfunc.getexitdistance(x,y,camera) (e.g. in 'Data processing - 1 - metrics and dataframes.ipynb')\n",
    "#          -- So the question is whether we want to define foraging trips on a finer temporal scale than what \n",
    "#             has already been calculated (perhaps not, if data are intermittent at very short timescales)\n",
    "#          -- Okay, looks like they have computed down to the level of 1 minute bins (these are computed in \n",
    "#             the section `(2) Create data matrix and save as df for each time division` of\n",
    "#             'Data processing - 1 - metrics and dataframes.ipynb')\n",
    "\n",
    "from bees_lifetimetracking_2018data import datafunctions"
   ]
  },
  {
   "cell_type": "code",
   "execution_count": 105,
   "id": "46923a5a",
   "metadata": {},
   "outputs": [],
   "source": [
    "# find foragers at finest time resolution we currently have (1 minute)\n",
    "dataDir = '../Data/220422/zenodo/df_day1min_alldays/'\n",
    "dfday = pd.read_hdf(dataDir+'df_day1min_42.hdf')\n",
    "numtimedivs = len(dfday['timedivision'].unique())\n",
    "day_uids, day_ages, all_inhive, bee_obs, bee_exitdist = datafunctions.get_inout_estimates(dfday,\n",
    "                                                                                          numtimedivs=numtimedivs)"
   ]
  },
  {
   "cell_type": "code",
   "execution_count": 111,
   "id": "6a878d32",
   "metadata": {},
   "outputs": [],
   "source": [
    "# calculate times at which each bee leaves the hive\n",
    "leave_hive_times_list = [ np.where(diffs==+1)[0] for diffs in np.diff(all_inhive) ]"
   ]
  },
  {
   "cell_type": "code",
   "execution_count": 123,
   "id": "2651a0e2",
   "metadata": {},
   "outputs": [],
   "source": [
    "# make dataframe consisting of each leaving event\n",
    "leave_hive_times_by_uid = []\n",
    "for uid,leave_hive_times in zip(day_uids,leave_hive_times_list):\n",
    "    for leave_hive_time in leave_hive_times:\n",
    "        leave_hive_times_by_uid.append([uid,leave_hive_time])\n",
    "df_leave_hive_events = pd.DataFrame(leave_hive_times_by_uid,columns=['uid','leave hive time'])\n",
    "\n",
    "# translate time to framenum (assuming 3 frames per second)\n",
    "frames_per_day = 24*60*60*3\n",
    "frames_per_timedivision = frames_per_day / numtimedivs\n",
    "df_leave_hive_events['leave hive framenum'] = df_leave_hive_events['leave hive time']*frames_per_timedivision"
   ]
  },
  {
   "cell_type": "code",
   "execution_count": 128,
   "id": "c333cd42",
   "metadata": {},
   "outputs": [
    {
     "data": {
      "text/plain": [
       "Index(['Age', 'Num. observations', 'Honey', 'Brood care', 'Pollen',\n",
       "       'Dance floor', 'Other', 'Frame 0', 'Frame 1', 'Frame 2', 'Frame 3',\n",
       "       'Frame 4', 'Frame 5', 'Median speed', 'Speed IQR',\n",
       "       'Speed 90th quantile', 'Dispersion (avg)', 'Exit distance (median)',\n",
       "       'Fraction squares visited', 'Day number', 'Festoon', 'Empty comb',\n",
       "       'blank1', 'blank2', 'Bee unique ID', 'Cohort ID', 'Num. outside trips',\n",
       "       'Num. dance floor visits', 'Dispersion-minute avg.',\n",
       "       'Frame 0 - Num. crossings', 'Frame 1 - Num. crossings',\n",
       "       'Frame 2 - Num. crossings', 'Frame 3 - Num. crossings',\n",
       "       'Frame 4 - Num. crossings', 'Frame 5 - Num. crossings', 'timedivision'],\n",
       "      dtype='object')"
      ]
     },
     "execution_count": 128,
     "metadata": {},
     "output_type": "execute_result"
    }
   ],
   "source": [
    "dfday.columns"
   ]
  },
  {
   "cell_type": "code",
   "execution_count": 134,
   "id": "e98a2029",
   "metadata": {},
   "outputs": [
    {
     "data": {
      "text/plain": [
       "1500252    0.0\n",
       "Name: Exit distance (median), dtype: float64"
      ]
     },
     "execution_count": 134,
     "metadata": {},
     "output_type": "execute_result"
    }
   ],
   "source": [
    "# TO DO NEXT: Use the following type of logic to calculate the distance of the bee from the exit\n",
    "# for each \"leave hive\" event defined below\n",
    "dfday[np.logical_and(dfday['Bee unique ID']==1359,dfday['timedivision']==978)]['Exit distance (median)']"
   ]
  },
  {
   "cell_type": "code",
   "execution_count": 124,
   "id": "7457f49e",
   "metadata": {},
   "outputs": [
    {
     "data": {
      "text/html": [
       "<div>\n",
       "<style scoped>\n",
       "    .dataframe tbody tr th:only-of-type {\n",
       "        vertical-align: middle;\n",
       "    }\n",
       "\n",
       "    .dataframe tbody tr th {\n",
       "        vertical-align: top;\n",
       "    }\n",
       "\n",
       "    .dataframe thead th {\n",
       "        text-align: right;\n",
       "    }\n",
       "</style>\n",
       "<table border=\"1\" class=\"dataframe\">\n",
       "  <thead>\n",
       "    <tr style=\"text-align: right;\">\n",
       "      <th></th>\n",
       "      <th>uid</th>\n",
       "      <th>leave hive time</th>\n",
       "      <th>leave hive framenum</th>\n",
       "    </tr>\n",
       "  </thead>\n",
       "  <tbody>\n",
       "    <tr>\n",
       "      <th>0</th>\n",
       "      <td>1359</td>\n",
       "      <td>978</td>\n",
       "      <td>176040.0</td>\n",
       "    </tr>\n",
       "    <tr>\n",
       "      <th>1</th>\n",
       "      <td>1563</td>\n",
       "      <td>1077</td>\n",
       "      <td>193860.0</td>\n",
       "    </tr>\n",
       "    <tr>\n",
       "      <th>2</th>\n",
       "      <td>1563</td>\n",
       "      <td>1122</td>\n",
       "      <td>201960.0</td>\n",
       "    </tr>\n",
       "    <tr>\n",
       "      <th>3</th>\n",
       "      <td>1563</td>\n",
       "      <td>1149</td>\n",
       "      <td>206820.0</td>\n",
       "    </tr>\n",
       "    <tr>\n",
       "      <th>4</th>\n",
       "      <td>1563</td>\n",
       "      <td>1153</td>\n",
       "      <td>207540.0</td>\n",
       "    </tr>\n",
       "    <tr>\n",
       "      <th>...</th>\n",
       "      <td>...</td>\n",
       "      <td>...</td>\n",
       "      <td>...</td>\n",
       "    </tr>\n",
       "    <tr>\n",
       "      <th>279</th>\n",
       "      <td>4765</td>\n",
       "      <td>1419</td>\n",
       "      <td>255420.0</td>\n",
       "    </tr>\n",
       "    <tr>\n",
       "      <th>280</th>\n",
       "      <td>4776</td>\n",
       "      <td>720</td>\n",
       "      <td>129600.0</td>\n",
       "    </tr>\n",
       "    <tr>\n",
       "      <th>281</th>\n",
       "      <td>4828</td>\n",
       "      <td>804</td>\n",
       "      <td>144720.0</td>\n",
       "    </tr>\n",
       "    <tr>\n",
       "      <th>282</th>\n",
       "      <td>4883</td>\n",
       "      <td>750</td>\n",
       "      <td>135000.0</td>\n",
       "    </tr>\n",
       "    <tr>\n",
       "      <th>283</th>\n",
       "      <td>4918</td>\n",
       "      <td>882</td>\n",
       "      <td>158760.0</td>\n",
       "    </tr>\n",
       "  </tbody>\n",
       "</table>\n",
       "<p>284 rows × 3 columns</p>\n",
       "</div>"
      ],
      "text/plain": [
       "      uid  leave hive time  leave hive framenum\n",
       "0    1359              978             176040.0\n",
       "1    1563             1077             193860.0\n",
       "2    1563             1122             201960.0\n",
       "3    1563             1149             206820.0\n",
       "4    1563             1153             207540.0\n",
       "..    ...              ...                  ...\n",
       "279  4765             1419             255420.0\n",
       "280  4776              720             129600.0\n",
       "281  4828              804             144720.0\n",
       "282  4883              750             135000.0\n",
       "283  4918              882             158760.0\n",
       "\n",
       "[284 rows x 3 columns]"
      ]
     },
     "execution_count": 124,
     "metadata": {},
     "output_type": "execute_result"
    }
   ],
   "source": [
    "df_leave_hive_events"
   ]
  },
  {
   "cell_type": "code",
   "execution_count": null,
   "id": "14fd7812",
   "metadata": {},
   "outputs": [],
   "source": [
    "# sanity check: is each bee close to the exit just before it leaves the hive?\n",
    "df_leave_hive_events['Exit distance (median)'] = "
   ]
  },
  {
   "cell_type": "code",
   "execution_count": 121,
   "id": "d89a31fa",
   "metadata": {},
   "outputs": [
    {
     "data": {
      "text/html": [
       "<div>\n",
       "<style scoped>\n",
       "    .dataframe tbody tr th:only-of-type {\n",
       "        vertical-align: middle;\n",
       "    }\n",
       "\n",
       "    .dataframe tbody tr th {\n",
       "        vertical-align: top;\n",
       "    }\n",
       "\n",
       "    .dataframe thead th {\n",
       "        text-align: right;\n",
       "    }\n",
       "</style>\n",
       "<table border=\"1\" class=\"dataframe\">\n",
       "  <thead>\n",
       "    <tr style=\"text-align: right;\">\n",
       "      <th></th>\n",
       "      <th>daynum</th>\n",
       "      <th>framenum</th>\n",
       "      <th>uid</th>\n",
       "      <th>x</th>\n",
       "      <th>y</th>\n",
       "      <th>camera</th>\n",
       "      <th>theta</th>\n",
       "    </tr>\n",
       "  </thead>\n",
       "  <tbody>\n",
       "    <tr>\n",
       "      <th>0</th>\n",
       "      <td>42</td>\n",
       "      <td>4913</td>\n",
       "      <td>1543</td>\n",
       "      <td>2406</td>\n",
       "      <td>4599</td>\n",
       "      <td>0</td>\n",
       "      <td>-1.63737</td>\n",
       "    </tr>\n",
       "    <tr>\n",
       "      <th>1</th>\n",
       "      <td>42</td>\n",
       "      <td>4914</td>\n",
       "      <td>1543</td>\n",
       "      <td>2407</td>\n",
       "      <td>4567</td>\n",
       "      <td>0</td>\n",
       "      <td>-1.89082</td>\n",
       "    </tr>\n",
       "    <tr>\n",
       "      <th>2</th>\n",
       "      <td>42</td>\n",
       "      <td>4915</td>\n",
       "      <td>1543</td>\n",
       "      <td>2390</td>\n",
       "      <td>4551</td>\n",
       "      <td>0</td>\n",
       "      <td>-1.89230</td>\n",
       "    </tr>\n",
       "    <tr>\n",
       "      <th>3</th>\n",
       "      <td>42</td>\n",
       "      <td>4916</td>\n",
       "      <td>1543</td>\n",
       "      <td>2382</td>\n",
       "      <td>4535</td>\n",
       "      <td>0</td>\n",
       "      <td>-2.23957</td>\n",
       "    </tr>\n",
       "    <tr>\n",
       "      <th>4</th>\n",
       "      <td>42</td>\n",
       "      <td>4917</td>\n",
       "      <td>1543</td>\n",
       "      <td>2390</td>\n",
       "      <td>4535</td>\n",
       "      <td>0</td>\n",
       "      <td>-2.22945</td>\n",
       "    </tr>\n",
       "    <tr>\n",
       "      <th>...</th>\n",
       "      <td>...</td>\n",
       "      <td>...</td>\n",
       "      <td>...</td>\n",
       "      <td>...</td>\n",
       "      <td>...</td>\n",
       "      <td>...</td>\n",
       "      <td>...</td>\n",
       "    </tr>\n",
       "    <tr>\n",
       "      <th>18055931</th>\n",
       "      <td>42</td>\n",
       "      <td>257243</td>\n",
       "      <td>4926</td>\n",
       "      <td>2142</td>\n",
       "      <td>3647</td>\n",
       "      <td>0</td>\n",
       "      <td>-1.85131</td>\n",
       "    </tr>\n",
       "    <tr>\n",
       "      <th>18055932</th>\n",
       "      <td>42</td>\n",
       "      <td>257244</td>\n",
       "      <td>4926</td>\n",
       "      <td>2158</td>\n",
       "      <td>3623</td>\n",
       "      <td>0</td>\n",
       "      <td>-1.54356</td>\n",
       "    </tr>\n",
       "    <tr>\n",
       "      <th>18055933</th>\n",
       "      <td>42</td>\n",
       "      <td>257245</td>\n",
       "      <td>4926</td>\n",
       "      <td>2142</td>\n",
       "      <td>3631</td>\n",
       "      <td>0</td>\n",
       "      <td>-2.12378</td>\n",
       "    </tr>\n",
       "    <tr>\n",
       "      <th>18055934</th>\n",
       "      <td>42</td>\n",
       "      <td>257246</td>\n",
       "      <td>4926</td>\n",
       "      <td>2118</td>\n",
       "      <td>3615</td>\n",
       "      <td>0</td>\n",
       "      <td>-1.99369</td>\n",
       "    </tr>\n",
       "    <tr>\n",
       "      <th>18055935</th>\n",
       "      <td>42</td>\n",
       "      <td>257247</td>\n",
       "      <td>4926</td>\n",
       "      <td>2078</td>\n",
       "      <td>3583</td>\n",
       "      <td>0</td>\n",
       "      <td>-2.21088</td>\n",
       "    </tr>\n",
       "  </tbody>\n",
       "</table>\n",
       "<p>18055936 rows × 7 columns</p>\n",
       "</div>"
      ],
      "text/plain": [
       "          daynum  framenum   uid     x     y  camera    theta\n",
       "0             42      4913  1543  2406  4599       0 -1.63737\n",
       "1             42      4914  1543  2407  4567       0 -1.89082\n",
       "2             42      4915  1543  2390  4551       0 -1.89230\n",
       "3             42      4916  1543  2382  4535       0 -2.23957\n",
       "4             42      4917  1543  2390  4535       0 -2.22945\n",
       "...          ...       ...   ...   ...   ...     ...      ...\n",
       "18055931      42    257243  4926  2142  3647       0 -1.85131\n",
       "18055932      42    257244  4926  2158  3623       0 -1.54356\n",
       "18055933      42    257245  4926  2142  3631       0 -2.12378\n",
       "18055934      42    257246  4926  2118  3615       0 -1.99369\n",
       "18055935      42    257247  4926  2078  3583       0 -2.21088\n",
       "\n",
       "[18055936 rows x 7 columns]"
      ]
     },
     "execution_count": 121,
     "metadata": {},
     "output_type": "execute_result"
    }
   ],
   "source": [
    "df"
   ]
  },
  {
   "cell_type": "code",
   "execution_count": null,
   "id": "00dfe843",
   "metadata": {},
   "outputs": [],
   "source": []
  }
 ],
 "metadata": {
  "kernelspec": {
   "display_name": "Python 3 (ipykernel)",
   "language": "python",
   "name": "python3"
  },
  "language_info": {
   "codemirror_mode": {
    "name": "ipython",
    "version": 3
   },
   "file_extension": ".py",
   "mimetype": "text/x-python",
   "name": "python",
   "nbconvert_exporter": "python",
   "pygments_lexer": "ipython3",
   "version": "3.8.11"
  }
 },
 "nbformat": 4,
 "nbformat_minor": 5
}
