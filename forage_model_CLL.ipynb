{
 "cells": [
  {
   "cell_type": "code",
   "execution_count": 1,
   "id": "5120d2de-ef9f-4eec-908f-32a639dfb6ca",
   "metadata": {
    "tags": []
   },
   "outputs": [],
   "source": [
    "import pandas as pd\n",
    "import numpy as np\n",
    "import matplotlib.pyplot as plt\n",
    "import random\n",
    "import math\n",
    "import warnings\n",
    "import os"
   ]
  },
  {
   "cell_type": "code",
   "execution_count": 2,
   "id": "e4e2dd43-00a3-4412-bc9c-d7660f28ea9c",
   "metadata": {
    "tags": []
   },
   "outputs": [],
   "source": [
    "os.chdir('/Users/dhamada/Downloads/honey-bee-behavior/')\n",
    "from bees_lifetimetracking_2018data import datafunctions"
   ]
  },
  {
   "cell_type": "code",
   "execution_count": 3,
   "id": "e7f28f88-9288-41b0-a6bd-f520ce2d2a30",
   "metadata": {
    "tags": []
   },
   "outputs": [],
   "source": [
    "from bees_lifetimetracking_2018data import definitions_2018 as bd"
   ]
  },
  {
   "cell_type": "code",
   "execution_count": 4,
   "id": "5f47ec5e-2ce3-46b4-a3f3-442b0088f9be",
   "metadata": {
    "tags": []
   },
   "outputs": [],
   "source": [
    "import pandas as pd\n",
    "import numpy as np\n",
    "from matplotlib import colors\n",
    "import seaborn as sns\n",
    "\n",
    "\n",
    "year = 2018\n",
    "startday = pd.Timestamp(year,7,16)  # actual, for 2018:   16 July  (cameras turned on)\n",
    "endday = pd.Timestamp(year,10,9)    # actual, for 2018:   was 10 September, but is now 09 Oct\n",
    "alldaytimestamps = pd.date_range(start=startday,end=endday,freq='D')\n",
    "numdays = len(alldaytimestamps)  # just do to 43?\n",
    "numbees = 4096  #  I think 4096 is the total number.  This is the total number of barcodes, NOT the total number of bees actually tracked\n",
    "numsubstrates = 10 # 10 actual substrates, and then 0 for undefined\n",
    "comb_daynums = np.array([ 0,  5, 10, 15, 20, 26, 30, 35, 40, 44, 65, 75, 85]) + 16 - startday.day  # days from start day, assuming start day is in July\n",
    "\n",
    "# get bee cohort data, and just process these for a single one\n",
    "cohort_data = pd.read_csv('/Users/dhamada/Downloads/honey-bee-behavior/bees_lifetimetracking_2018data/all_cohorts.csv')\n",
    "cohort_colornames = np.unique(cohort_data['cohort'])\n",
    "cohort_tagids = [np.array(cohort_data[cohort_data['cohort']==name]['beeID']) for name in cohort_colornames]\n",
    "cohort_birthdates = np.array([pd.Timestamp(np.array(cohort_data['DOB'][cohort_data['cohort']==c])[0]) for c in cohort_colornames])\n"
   ]
  },
  {
   "cell_type": "code",
   "execution_count": 5,
   "id": "9a9fb6d1-b14b-4d06-9a87-c1bca1bb1fbb",
   "metadata": {
    "tags": []
   },
   "outputs": [
    {
     "data": {
      "text/html": [
       "<div>\n",
       "<style scoped>\n",
       "    .dataframe tbody tr th:only-of-type {\n",
       "        vertical-align: middle;\n",
       "    }\n",
       "\n",
       "    .dataframe tbody tr th {\n",
       "        vertical-align: top;\n",
       "    }\n",
       "\n",
       "    .dataframe thead th {\n",
       "        text-align: right;\n",
       "    }\n",
       "</style>\n",
       "<table border=\"1\" class=\"dataframe\">\n",
       "  <thead>\n",
       "    <tr style=\"text-align: right;\">\n",
       "      <th></th>\n",
       "      <th>Unnamed: 0</th>\n",
       "      <th>beeID</th>\n",
       "      <th>cohort</th>\n",
       "      <th>DOB</th>\n",
       "      <th>jdate_birth</th>\n",
       "      <th>round</th>\n",
       "      <th>colony</th>\n",
       "    </tr>\n",
       "  </thead>\n",
       "  <tbody>\n",
       "    <tr>\n",
       "      <th>0</th>\n",
       "      <td>0</td>\n",
       "      <td>0</td>\n",
       "      <td>queen</td>\n",
       "      <td>1 july 2000</td>\n",
       "      <td>183</td>\n",
       "      <td>0</td>\n",
       "      <td>c186</td>\n",
       "    </tr>\n",
       "    <tr>\n",
       "      <th>1</th>\n",
       "      <td>0</td>\n",
       "      <td>1</td>\n",
       "      <td>pink</td>\n",
       "      <td>16 june 2018</td>\n",
       "      <td>18167</td>\n",
       "      <td>0</td>\n",
       "      <td>c1</td>\n",
       "    </tr>\n",
       "    <tr>\n",
       "      <th>2</th>\n",
       "      <td>1</td>\n",
       "      <td>2</td>\n",
       "      <td>pink</td>\n",
       "      <td>16 june 2018</td>\n",
       "      <td>18167</td>\n",
       "      <td>0</td>\n",
       "      <td>c1</td>\n",
       "    </tr>\n",
       "    <tr>\n",
       "      <th>3</th>\n",
       "      <td>2</td>\n",
       "      <td>3</td>\n",
       "      <td>pink</td>\n",
       "      <td>16 june 2018</td>\n",
       "      <td>18167</td>\n",
       "      <td>0</td>\n",
       "      <td>c1</td>\n",
       "    </tr>\n",
       "    <tr>\n",
       "      <th>4</th>\n",
       "      <td>3</td>\n",
       "      <td>4</td>\n",
       "      <td>pink</td>\n",
       "      <td>16 june 2018</td>\n",
       "      <td>18167</td>\n",
       "      <td>0</td>\n",
       "      <td>c1</td>\n",
       "    </tr>\n",
       "    <tr>\n",
       "      <th>...</th>\n",
       "      <td>...</td>\n",
       "      <td>...</td>\n",
       "      <td>...</td>\n",
       "      <td>...</td>\n",
       "      <td>...</td>\n",
       "      <td>...</td>\n",
       "      <td>...</td>\n",
       "    </tr>\n",
       "    <tr>\n",
       "      <th>5338</th>\n",
       "      <td>411</td>\n",
       "      <td>2267</td>\n",
       "      <td>pink2</td>\n",
       "      <td>29 august 2018</td>\n",
       "      <td>18241</td>\n",
       "      <td>1</td>\n",
       "      <td>c8</td>\n",
       "    </tr>\n",
       "    <tr>\n",
       "      <th>5339</th>\n",
       "      <td>412</td>\n",
       "      <td>2268</td>\n",
       "      <td>pink2</td>\n",
       "      <td>29 august 2018</td>\n",
       "      <td>18241</td>\n",
       "      <td>1</td>\n",
       "      <td>c8</td>\n",
       "    </tr>\n",
       "    <tr>\n",
       "      <th>5340</th>\n",
       "      <td>413</td>\n",
       "      <td>2269</td>\n",
       "      <td>pink2</td>\n",
       "      <td>29 august 2018</td>\n",
       "      <td>18241</td>\n",
       "      <td>1</td>\n",
       "      <td>c8</td>\n",
       "    </tr>\n",
       "    <tr>\n",
       "      <th>5341</th>\n",
       "      <td>414</td>\n",
       "      <td>2270</td>\n",
       "      <td>pink2</td>\n",
       "      <td>29 august 2018</td>\n",
       "      <td>18241</td>\n",
       "      <td>1</td>\n",
       "      <td>c8</td>\n",
       "    </tr>\n",
       "    <tr>\n",
       "      <th>5342</th>\n",
       "      <td>415</td>\n",
       "      <td>2271</td>\n",
       "      <td>pink2</td>\n",
       "      <td>29 august 2018</td>\n",
       "      <td>18241</td>\n",
       "      <td>1</td>\n",
       "      <td>c8</td>\n",
       "    </tr>\n",
       "  </tbody>\n",
       "</table>\n",
       "<p>5343 rows × 7 columns</p>\n",
       "</div>"
      ],
      "text/plain": [
       "      Unnamed: 0  beeID cohort             DOB  jdate_birth  round colony\n",
       "0              0      0  queen     1 july 2000          183      0   c186\n",
       "1              0      1   pink    16 june 2018        18167      0     c1\n",
       "2              1      2   pink    16 june 2018        18167      0     c1\n",
       "3              2      3   pink    16 june 2018        18167      0     c1\n",
       "4              3      4   pink    16 june 2018        18167      0     c1\n",
       "...          ...    ...    ...             ...          ...    ...    ...\n",
       "5338         411   2267  pink2  29 august 2018        18241      1     c8\n",
       "5339         412   2268  pink2  29 august 2018        18241      1     c8\n",
       "5340         413   2269  pink2  29 august 2018        18241      1     c8\n",
       "5341         414   2270  pink2  29 august 2018        18241      1     c8\n",
       "5342         415   2271  pink2  29 august 2018        18241      1     c8\n",
       "\n",
       "[5343 rows x 7 columns]"
      ]
     },
     "execution_count": 5,
     "metadata": {},
     "output_type": "execute_result"
    }
   ],
   "source": [
    "cohort_data"
   ]
  },
  {
   "cell_type": "code",
   "execution_count": 94,
   "id": "ad5e9224-8cfc-4106-8d4d-8f3c67e9ce83",
   "metadata": {
    "tags": []
   },
   "outputs": [
    {
     "data": {
      "text/plain": [
       "array(['2 july 2018', '2 july 2018', '2 july 2018', '2 july 2018',\n",
       "       '2 july 2018', '2 july 2018', '2 july 2018', '2 july 2018',\n",
       "       '2 july 2018', '2 july 2018', '2 july 2018', '2 july 2018',\n",
       "       '2 july 2018', '2 july 2018', '2 july 2018', '2 july 2018',\n",
       "       '2 july 2018', '2 july 2018', '2 july 2018', '2 july 2018',\n",
       "       '2 july 2018', '2 july 2018', '2 july 2018', '2 july 2018',\n",
       "       '2 july 2018', '2 july 2018', '2 july 2018', '2 july 2018',\n",
       "       '2 july 2018', '2 july 2018', '2 july 2018', '2 july 2018',\n",
       "       '2 july 2018', '2 july 2018', '2 july 2018', '2 july 2018',\n",
       "       '2 july 2018', '2 july 2018', '2 july 2018', '2 july 2018',\n",
       "       '2 july 2018', '2 july 2018', '2 july 2018', '2 july 2018',\n",
       "       '2 july 2018', '2 july 2018', '2 july 2018', '2 july 2018',\n",
       "       '2 july 2018', '2 july 2018', '2 july 2018', '2 july 2018',\n",
       "       '2 july 2018', '2 july 2018', '2 july 2018', '2 july 2018',\n",
       "       '2 july 2018', '2 july 2018', '2 july 2018', '2 july 2018',\n",
       "       '2 july 2018', '2 july 2018', '2 july 2018', '2 july 2018',\n",
       "       '2 july 2018', '2 july 2018', '2 july 2018', '2 july 2018',\n",
       "       '2 july 2018', '2 july 2018', '2 july 2018', '2 july 2018',\n",
       "       '2 july 2018', '2 july 2018', '2 july 2018', '2 july 2018',\n",
       "       '2 july 2018', '2 july 2018', '2 july 2018', '2 july 2018',\n",
       "       '2 july 2018', '2 july 2018', '2 july 2018', '2 july 2018',\n",
       "       '2 july 2018', '2 july 2018', '2 july 2018', '2 july 2018',\n",
       "       '2 july 2018', '2 july 2018', '2 july 2018', '2 july 2018',\n",
       "       '2 july 2018', '2 july 2018', '2 july 2018', '2 july 2018',\n",
       "       '2 july 2018', '2 july 2018', '2 july 2018', '2 july 2018',\n",
       "       '2 july 2018', '2 july 2018', '2 july 2018', '2 july 2018',\n",
       "       '2 july 2018', '2 july 2018', '2 july 2018', '2 july 2018',\n",
       "       '2 july 2018', '2 july 2018', '2 july 2018', '2 july 2018',\n",
       "       '2 july 2018', '2 july 2018', '2 july 2018', '2 july 2018',\n",
       "       '2 july 2018', '2 july 2018', '2 july 2018', '2 july 2018',\n",
       "       '2 july 2018', '2 july 2018', '2 july 2018', '2 july 2018',\n",
       "       '2 july 2018', '2 july 2018', '2 july 2018', '2 july 2018',\n",
       "       '2 july 2018', '2 july 2018', '2 july 2018', '2 july 2018',\n",
       "       '2 july 2018', '2 july 2018', '2 july 2018', '2 july 2018',\n",
       "       '2 july 2018', '2 july 2018', '2 july 2018', '2 july 2018',\n",
       "       '2 july 2018', '2 july 2018', '2 july 2018', '2 july 2018',\n",
       "       '2 july 2018', '2 july 2018', '2 july 2018', '2 july 2018',\n",
       "       '2 july 2018', '2 july 2018', '2 july 2018', '2 july 2018',\n",
       "       '2 july 2018', '2 july 2018', '2 july 2018', '2 july 2018',\n",
       "       '2 july 2018', '2 july 2018', '2 july 2018', '2 july 2018',\n",
       "       '2 july 2018', '2 july 2018', '2 july 2018', '2 july 2018',\n",
       "       '2 july 2018', '2 july 2018', '2 july 2018', '2 july 2018',\n",
       "       '2 july 2018', '2 july 2018', '2 july 2018', '2 july 2018',\n",
       "       '2 july 2018', '2 july 2018', '2 july 2018', '2 july 2018',\n",
       "       '2 july 2018', '2 july 2018', '2 july 2018', '2 july 2018',\n",
       "       '2 july 2018', '2 july 2018', '2 july 2018', '2 july 2018',\n",
       "       '2 july 2018', '2 july 2018', '2 july 2018', '2 july 2018',\n",
       "       '2 july 2018', '2 july 2018', '2 july 2018', '2 july 2018',\n",
       "       '2 july 2018', '2 july 2018', '2 july 2018', '2 july 2018',\n",
       "       '2 july 2018', '2 july 2018', '2 july 2018', '2 july 2018'],\n",
       "      dtype=object)"
      ]
     },
     "execution_count": 94,
     "metadata": {},
     "output_type": "execute_result"
    }
   ],
   "source": [
    "#cohort_birthdates = np.array([pd.Timestamp(np.array(cohort_data['DOB'][cohort_data['cohort']==c])[0],freq='D') for c in cohort_colornames])\n",
    "\n",
    "np.array([cohort_data['DOB'][cohort_data['cohort']==c] for c in cohort_colornames][0])"
   ]
  },
  {
   "cell_type": "code",
   "execution_count": 95,
   "id": "026a42c2-ccbe-4a33-a2bb-2254c4851794",
   "metadata": {},
   "outputs": [],
   "source": [
    "from bees_lifetimetracking_2018data import displayfunctions as bp\n",
    "datafunctions.init(bd) \n",
    "bp.init(bd)\n",
    "\n",
    "warnings.filterwarnings(\"ignore\")"
   ]
  },
  {
   "cell_type": "code",
   "execution_count": 96,
   "id": "0590920d-0da4-47f3-9417-88357e4140e5",
   "metadata": {
    "tags": []
   },
   "outputs": [],
   "source": [
    "PATH = '/Users/dhamada/Downloads/honey-bee-behavior/'"
   ]
  },
  {
   "cell_type": "code",
   "execution_count": 97,
   "id": "e58da469-2535-4cdd-95cd-08ba06d1a6ca",
   "metadata": {
    "tags": []
   },
   "outputs": [],
   "source": [
    "def getExitFrameLocation(df):\n",
    "    x_max = 6500\n",
    "    x_min = 3500\n",
    "    y_min = 3800\n",
    "    y_max = 5400\n",
    "    \n",
    "    x = np.array(df['x']).astype(float)\n",
    "    y = np.array(df['y']).astype(float)\n",
    "    camera = np.array(df['camera']).astype(int)\n",
    "    conv_factor = 1\n",
    "    x_adjusted = x/conv_factor + (np.logical_not(camera).astype(int))*bd.xpixels\n",
    "    y_adjusted = y/conv_factor\n",
    "\n",
    "    \n",
    "    x_bounds = (x_adjusted >= x_min) & (x_adjusted <= x_max)\n",
    "    y_bounds = (y_adjusted >= y_min) & (y_adjusted <= y_max)\n",
    "    \n",
    "    df['in_exit_frame'] = (x_bounds & y_bounds).astype('int')\n",
    "    \n",
    "    return df"
   ]
  },
  {
   "cell_type": "code",
   "execution_count": 98,
   "id": "b0de1a5c-e694-498e-b575-35ac7e7cf520",
   "metadata": {
    "tags": []
   },
   "outputs": [],
   "source": [
    "def crossedDanceFloor(df):\n",
    "    x_max = 6000\n",
    "    x_min = 4700\n",
    "    y_min = 4350\n",
    "    y_max = 5200\n",
    "#     dance_floor={'top':4350,'bottom':5200,'right':6000,'left':4700}\n",
    "    x = np.array(df['x']).astype(float)\n",
    "    y = np.array(df['y']).astype(float)\n",
    "    camera = np.array(df['camera']).astype(int)\n",
    "    conv_factor = 1\n",
    "    x_adjusted = x/conv_factor + (np.logical_not(camera).astype(int))*bd.xpixels\n",
    "    y_adjusted = y/conv_factor\n",
    "\n",
    "    \n",
    "    x_bounds = (x_adjusted >= x_min) & (x_adjusted <= x_max)\n",
    "    y_bounds = (y_adjusted >= y_min) & (y_adjusted <= y_max)\n",
    "    \n",
    "    df['cross_df'] = (x_bounds & y_bounds).astype('int')\n",
    "    \n",
    "    return df"
   ]
  },
  {
   "cell_type": "code",
   "execution_count": 99,
   "id": "652819cf-12ad-465a-a907-dd5d4ba87a6d",
   "metadata": {
    "tags": []
   },
   "outputs": [],
   "source": [
    "def numOfDanceFloorVisits(df):\n",
    "    dance = df.groupby(['uid','daynum'])['cross_df'].sum().to_frame(name='df_visits').reset_index()\n",
    "    df = pd.merge(df,dance, on=['uid','daynum'], how='left')\n",
    "    \n",
    "    return df\n",
    "    "
   ]
  },
  {
   "cell_type": "code",
   "execution_count": 100,
   "id": "efbce1da-1cd8-4675-946e-0349d578695d",
   "metadata": {
    "tags": []
   },
   "outputs": [],
   "source": [
    "def getExitDist(df):\n",
    "    df['exit_dist'] = datafunctions.getexitdistance(df.x,df.y,df.camera)\n",
    "    return df"
   ]
  },
  {
   "cell_type": "code",
   "execution_count": 101,
   "id": "8c26baab-3186-48d0-a6f6-053b50fa0a72",
   "metadata": {
    "tags": []
   },
   "outputs": [],
   "source": [
    "def get5MinBounds(time):\n",
    "    lower = int(time - 900) \n",
    "    upper = int(time + 900)\n",
    "    return upper,lower"
   ]
  },
  {
   "cell_type": "code",
   "execution_count": 102,
   "id": "a1cad5de-b4fb-4e60-8425-7f46396e89d4",
   "metadata": {
    "tags": []
   },
   "outputs": [],
   "source": [
    "def getData(daynum,df):\n",
    "    if daynum >= 50:\n",
    "        datadir = PATH + 'bees_lifetimetracking_2018data/beetrajectories_days_050_to_085/'\n",
    "    else:\n",
    "        datadir = PATH + 'bees_lifetimetracking_2018data/beetrajectories_days_000_to_049/'\n",
    "\n",
    "    filename = '{}beetrajectories_{:0>3}.hdf'.format(datadir,daynum)\n",
    "    print(filename)\n",
    "    temp = pd.read_hdf(filename)\n",
    "\n",
    "    ### DID THE BEE LEAVE?\n",
    "    dataDir = PATH + 'df_day1min_alldays/'\n",
    "    dfday = pd.read_hdf('{}df_day1min_{:0>2}.hdf'.format(dataDir,daynum))\n",
    "    numtimedivs = len(dfday['timedivision'].unique()) # minutes in a day\n",
    "    day_uids, day_ages, all_inhive, bee_obs, bee_exitdist = datafunctions.get_inout_estimates(dfday,\n",
    "                                                                                              numtimedivs=numtimedivs)\n",
    "\n",
    "    leave_hive_times_list = [np.where(diffs==-1)[0] for diffs in np.diff(all_inhive) ]\n",
    "\n",
    "    leave_hive_times_by_uid = []\n",
    "\n",
    "    for uid,leave_hive_times in zip(day_uids,leave_hive_times_list):\n",
    "        for leave_hive_time in leave_hive_times:\n",
    "            leave_hive_times_by_uid.append([uid,leave_hive_time])\n",
    "    df_leave_hive_events = pd.DataFrame(leave_hive_times_by_uid,columns=['uid','leave hive time'])\n",
    "\n",
    "    frames_per_day = 24*60*60*3\n",
    "    frames_per_timedivision = frames_per_day / numtimedivs\n",
    "    df_leave_hive_events['leave hive framenum'] = df_leave_hive_events['leave hive time']*frames_per_timedivision\n",
    "\n",
    "    leave_hive_times_by_uid = []\n",
    "    for uid,leave_hive_times in zip(day_uids,leave_hive_times_list):\n",
    "        for leave_hive_time in leave_hive_times:\n",
    "            leave_hive_times_by_uid.append([uid,leave_hive_time])\n",
    "    df_leave_hive_events = pd.DataFrame(leave_hive_times_by_uid,columns=['uid','leave hive time'])\n",
    "\n",
    "    # translate time to framenum (assuming 3 frames per second)\n",
    "    frames_per_day = 24*60*60*3\n",
    "    frames_per_timedivision = frames_per_day / numtimedivs\n",
    "    df_leave_hive_events['leave hive framenum'] = (df_leave_hive_events['leave hive time']*frames_per_timedivision).astype('int')\n",
    "\n",
    "\n",
    "    temp['forage'] = np.where((temp['framenum'].isin(df_leave_hive_events['leave hive framenum']))&(temp['uid'].isin(df_leave_hive_events['uid'])), 1,0)\n",
    "    temp['time'] = temp['framenum']/(3*60)\n",
    "    \n",
    "    temp[\"x_norm\"] = 2 * math.pi * temp[\"time\"] / temp[\"time\"].max()\n",
    "    temp[\"cos_x\"] = np.cos(temp[\"x_norm\"])\n",
    "    temp[\"sin_x\"] = np.sin(temp[\"x_norm\"])\n",
    "    \n",
    "    ### AGE\n",
    "    age_id = dfday[['Age','Bee unique ID']].astype('int')\n",
    "    age_id = age_id.rename(columns={\"Bee unique ID\":'uid'})\n",
    "    age_id = age_id.drop_duplicates()\n",
    "\n",
    "    temp = pd.merge(temp,age_id,on='uid', how='left')\n",
    "\n",
    "    ### Indicator of frame\n",
    "    temp = getExitFrameLocation(temp)\n",
    "\n",
    "    \n",
    "    ### Exit Diastance\n",
    "    temp = getExitDist(temp)\n",
    "    \n",
    "    ### Crossed Dance Floor\n",
    "    temp = crossedDanceFloor(temp)\n",
    "    \n",
    "    ### Number of visits\n",
    "    temp =  numOfDanceFloorVisits(temp)\n",
    "    \n",
    "    df = df.append(temp)\n",
    "    \n",
    "    return df\n",
    "    "
   ]
  },
  {
   "cell_type": "code",
   "execution_count": 73,
   "id": "c7689776-5964-4588-bafc-2cc0e17fdd7a",
   "metadata": {
    "tags": []
   },
   "outputs": [
    {
     "name": "stdout",
     "output_type": "stream",
     "text": [
      "/Users/dhamada/Downloads/honey-bee-behavior/bees_lifetimetracking_2018data/beetrajectories_days_000_to_049/beetrajectories_020.hdf\n"
     ]
    },
    {
     "ename": "FileNotFoundError",
     "evalue": "File /Users/dhamada/Downloads/honey-bee-behavior/df_day1min_alldays/df_day1min_20.hdf does not exist",
     "output_type": "error",
     "traceback": [
      "\u001b[0;31m---------------------------------------------------------------------------\u001b[0m",
      "\u001b[0;31mFileNotFoundError\u001b[0m                         Traceback (most recent call last)",
      "Cell \u001b[0;32mIn[73], line 3\u001b[0m\n\u001b[1;32m      1\u001b[0m df2 \u001b[38;5;241m=\u001b[39m pd\u001b[38;5;241m.\u001b[39mDataFrame()\n\u001b[1;32m      2\u001b[0m \u001b[38;5;28;01mfor\u001b[39;00m x \u001b[38;5;129;01min\u001b[39;00m \u001b[38;5;28mrange\u001b[39m(\u001b[38;5;241m20\u001b[39m,\u001b[38;5;241m26\u001b[39m):\n\u001b[0;32m----> 3\u001b[0m    df2 \u001b[38;5;241m=\u001b[39m getData(x,df2)\n",
      "Cell \u001b[0;32mIn[72], line 13\u001b[0m, in \u001b[0;36mgetData\u001b[0;34m(daynum, df)\u001b[0m\n\u001b[1;32m     11\u001b[0m \u001b[38;5;66;03m### DID THE BEE LEAVE?\u001b[39;00m\n\u001b[1;32m     12\u001b[0m dataDir \u001b[38;5;241m=\u001b[39m PATH \u001b[38;5;241m+\u001b[39m \u001b[38;5;124m'\u001b[39m\u001b[38;5;124mdf_day1min_alldays/\u001b[39m\u001b[38;5;124m'\u001b[39m\n\u001b[0;32m---> 13\u001b[0m dfday \u001b[38;5;241m=\u001b[39m pd\u001b[38;5;241m.\u001b[39mread_hdf(\u001b[38;5;124m'\u001b[39m\u001b[38;5;132;01m{}\u001b[39;00m\u001b[38;5;124mdf_day1min_\u001b[39m\u001b[38;5;132;01m{:0>2}\u001b[39;00m\u001b[38;5;124m.hdf\u001b[39m\u001b[38;5;124m'\u001b[39m\u001b[38;5;241m.\u001b[39mformat(dataDir,daynum))\n\u001b[1;32m     14\u001b[0m numtimedivs \u001b[38;5;241m=\u001b[39m \u001b[38;5;28mlen\u001b[39m(dfday[\u001b[38;5;124m'\u001b[39m\u001b[38;5;124mtimedivision\u001b[39m\u001b[38;5;124m'\u001b[39m]\u001b[38;5;241m.\u001b[39munique()) \u001b[38;5;66;03m# minutes in a day\u001b[39;00m\n\u001b[1;32m     15\u001b[0m day_uids, day_ages, all_inhive, bee_obs, bee_exitdist \u001b[38;5;241m=\u001b[39m datafunctions\u001b[38;5;241m.\u001b[39mget_inout_estimates(dfday,\n\u001b[1;32m     16\u001b[0m                                                                                           numtimedivs\u001b[38;5;241m=\u001b[39mnumtimedivs)\n",
      "File \u001b[0;32m~/anaconda3/lib/python3.11/site-packages/pandas/io/pytables.py:418\u001b[0m, in \u001b[0;36mread_hdf\u001b[0;34m(path_or_buf, key, mode, errors, where, start, stop, columns, iterator, chunksize, **kwargs)\u001b[0m\n\u001b[1;32m    415\u001b[0m     exists \u001b[38;5;241m=\u001b[39m \u001b[38;5;28;01mFalse\u001b[39;00m\n\u001b[1;32m    417\u001b[0m \u001b[38;5;28;01mif\u001b[39;00m \u001b[38;5;129;01mnot\u001b[39;00m exists:\n\u001b[0;32m--> 418\u001b[0m     \u001b[38;5;28;01mraise\u001b[39;00m \u001b[38;5;167;01mFileNotFoundError\u001b[39;00m(\u001b[38;5;124mf\u001b[39m\u001b[38;5;124m\"\u001b[39m\u001b[38;5;124mFile \u001b[39m\u001b[38;5;132;01m{\u001b[39;00mpath_or_buf\u001b[38;5;132;01m}\u001b[39;00m\u001b[38;5;124m does not exist\u001b[39m\u001b[38;5;124m\"\u001b[39m)\n\u001b[1;32m    420\u001b[0m store \u001b[38;5;241m=\u001b[39m HDFStore(path_or_buf, mode\u001b[38;5;241m=\u001b[39mmode, errors\u001b[38;5;241m=\u001b[39merrors, \u001b[38;5;241m*\u001b[39m\u001b[38;5;241m*\u001b[39mkwargs)\n\u001b[1;32m    421\u001b[0m \u001b[38;5;66;03m# can't auto open/close if we are using an iterator\u001b[39;00m\n\u001b[1;32m    422\u001b[0m \u001b[38;5;66;03m# so delegate to the iterator\u001b[39;00m\n",
      "\u001b[0;31mFileNotFoundError\u001b[0m: File /Users/dhamada/Downloads/honey-bee-behavior/df_day1min_alldays/df_day1min_20.hdf does not exist"
     ]
    }
   ],
   "source": [
    "df2 = pd.DataFrame()\n",
    "for x in range(20,26):\n",
    "   df2 = getData(x,df2)"
   ]
  },
  {
   "cell_type": "code",
   "execution_count": null,
   "id": "c1462556-277a-4fd7-a26f-3d6d6d1042b9",
   "metadata": {},
   "outputs": [],
   "source": []
  }
 ],
 "metadata": {
  "kernelspec": {
   "display_name": "Python 3 (ipykernel)",
   "language": "python",
   "name": "python3"
  },
  "language_info": {
   "codemirror_mode": {
    "name": "ipython",
    "version": 3
   },
   "file_extension": ".py",
   "mimetype": "text/x-python",
   "name": "python",
   "nbconvert_exporter": "python",
   "pygments_lexer": "ipython3",
   "version": "3.11.5"
  }
 },
 "nbformat": 4,
 "nbformat_minor": 5
}
